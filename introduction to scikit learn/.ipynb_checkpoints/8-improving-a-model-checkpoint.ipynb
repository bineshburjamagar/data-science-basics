{
 "cells": [
  {
   "cell_type": "markdown",
   "id": "8f9132eb-deaa-41a7-a376-0126d31cef74",
   "metadata": {},
   "source": [
    "## 5. Improving a model"
   ]
  },
  {
   "cell_type": "code",
   "execution_count": null,
   "id": "813f7cb4-202f-4d42-8ad1-17204eada363",
   "metadata": {},
   "outputs": [],
   "source": []
  }
 ],
 "metadata": {
  "kernelspec": {
   "display_name": "Python 3 (ipykernel)",
   "language": "python",
   "name": "python3"
  },
  "language_info": {
   "codemirror_mode": {
    "name": "ipython",
    "version": 3
   },
   "file_extension": ".py",
   "mimetype": "text/x-python",
   "name": "python",
   "nbconvert_exporter": "python",
   "pygments_lexer": "ipython3",
   "version": "3.12.5"
  }
 },
 "nbformat": 4,
 "nbformat_minor": 5
}
