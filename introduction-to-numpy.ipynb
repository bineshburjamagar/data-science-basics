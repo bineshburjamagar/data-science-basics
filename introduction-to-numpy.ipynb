{
 "cells": [
  {
   "cell_type": "code",
   "execution_count": 1,
   "id": "1fa217c1-af5c-4364-8aaf-00c673e76b52",
   "metadata": {},
   "outputs": [],
   "source": [
    "import numpy as np"
   ]
  },
  {
   "cell_type": "markdown",
   "id": "9caa272c-7239-4459-a636-e6a19af5080b",
   "metadata": {},
   "source": [
    "## DataTypes & Attributes"
   ]
  },
  {
   "cell_type": "code",
   "execution_count": 2,
   "id": "d8b76c9a-2d97-4d31-9a8e-c9e4ca8bc56d",
   "metadata": {},
   "outputs": [
    {
     "data": {
      "text/plain": [
       "array([1, 2, 3])"
      ]
     },
     "execution_count": 2,
     "metadata": {},
     "output_type": "execute_result"
    }
   ],
   "source": [
    "# NumPy's main datatype is ndarray\n",
    "a1 = np.array([1,2,3])\n",
    "a1"
   ]
  },
  {
   "cell_type": "code",
   "execution_count": 3,
   "id": "7da90324-2e6f-4301-a7ba-b579db175968",
   "metadata": {},
   "outputs": [
    {
     "data": {
      "text/plain": [
       "numpy.ndarray"
      ]
     },
     "execution_count": 3,
     "metadata": {},
     "output_type": "execute_result"
    }
   ],
   "source": [
    "type(a1)"
   ]
  },
  {
   "cell_type": "code",
   "execution_count": 4,
   "id": "2f05dd24-040f-4b78-8905-a7db4b7ab85a",
   "metadata": {},
   "outputs": [],
   "source": [
    "a2 = np.array([[1,2.0,3.3],\n",
    "              [4,5,6.5]])\n",
    "\n",
    "a3 = np.array([[[1, 2, 3],\n",
    "                [4, 5, 6]],\n",
    "               [[7, 8, 9],\n",
    "                [10, 11, 12]],\n",
    "               [[13, 14, 15],\n",
    "                [16, 17, 18]]])"
   ]
  },
  {
   "cell_type": "code",
   "execution_count": 5,
   "id": "e0fcc10e-dbe8-41fd-9e55-d5acfa558211",
   "metadata": {},
   "outputs": [
    {
     "data": {
      "text/plain": [
       "array([[1. , 2. , 3.3],\n",
       "       [4. , 5. , 6.5]])"
      ]
     },
     "execution_count": 5,
     "metadata": {},
     "output_type": "execute_result"
    }
   ],
   "source": [
    "a2"
   ]
  },
  {
   "cell_type": "code",
   "execution_count": 6,
   "id": "723933de-f85e-44ed-892f-9752ebd1b3ee",
   "metadata": {},
   "outputs": [
    {
     "data": {
      "text/plain": [
       "array([[[ 1,  2,  3],\n",
       "        [ 4,  5,  6]],\n",
       "\n",
       "       [[ 7,  8,  9],\n",
       "        [10, 11, 12]],\n",
       "\n",
       "       [[13, 14, 15],\n",
       "        [16, 17, 18]]])"
      ]
     },
     "execution_count": 6,
     "metadata": {},
     "output_type": "execute_result"
    }
   ],
   "source": [
    "a3"
   ]
  },
  {
   "cell_type": "code",
   "execution_count": 7,
   "id": "9677767f-2d3f-4547-a2c5-18342f34ce53",
   "metadata": {},
   "outputs": [
    {
     "data": {
      "text/plain": [
       "(3,)"
      ]
     },
     "execution_count": 7,
     "metadata": {},
     "output_type": "execute_result"
    }
   ],
   "source": [
    "a1.shape"
   ]
  },
  {
   "cell_type": "code",
   "execution_count": 8,
   "id": "18fff52d-fbdb-462a-987a-b202643e5dcd",
   "metadata": {},
   "outputs": [
    {
     "data": {
      "text/plain": [
       "(2, 3)"
      ]
     },
     "execution_count": 8,
     "metadata": {},
     "output_type": "execute_result"
    }
   ],
   "source": [
    "a2.shape"
   ]
  },
  {
   "cell_type": "code",
   "execution_count": 9,
   "id": "b5fc71f4-b563-482f-88db-195422f9fab7",
   "metadata": {},
   "outputs": [
    {
     "data": {
      "text/plain": [
       "(3, 2, 3)"
      ]
     },
     "execution_count": 9,
     "metadata": {},
     "output_type": "execute_result"
    }
   ],
   "source": [
    "a3.shape"
   ]
  },
  {
   "cell_type": "code",
   "execution_count": 10,
   "id": "fd10ffb5-abf8-4785-bbe8-bafa2a597cce",
   "metadata": {},
   "outputs": [
    {
     "data": {
      "text/plain": [
       "(1, 2, 3)"
      ]
     },
     "execution_count": 10,
     "metadata": {},
     "output_type": "execute_result"
    }
   ],
   "source": [
    "a1.ndim, a2.ndim, a3.ndim"
   ]
  },
  {
   "cell_type": "code",
   "execution_count": 11,
   "id": "9605472c-f9c1-4f86-9fde-ffa85d08482b",
   "metadata": {},
   "outputs": [
    {
     "data": {
      "text/plain": [
       "(dtype('int32'), dtype('float64'), dtype('int32'))"
      ]
     },
     "execution_count": 11,
     "metadata": {},
     "output_type": "execute_result"
    }
   ],
   "source": [
    "a1.dtype, a2.dtype, a3.dtype"
   ]
  },
  {
   "cell_type": "code",
   "execution_count": 12,
   "id": "fefcaf8e-54c6-40e2-8e24-a839a50d9d49",
   "metadata": {},
   "outputs": [
    {
     "data": {
      "text/plain": [
       "array([[[ 1,  2,  3],\n",
       "        [ 4,  5,  6]],\n",
       "\n",
       "       [[ 7,  8,  9],\n",
       "        [10, 11, 12]],\n",
       "\n",
       "       [[13, 14, 15],\n",
       "        [16, 17, 18]]])"
      ]
     },
     "execution_count": 12,
     "metadata": {},
     "output_type": "execute_result"
    }
   ],
   "source": [
    "a3"
   ]
  },
  {
   "cell_type": "code",
   "execution_count": 13,
   "id": "5a1c3823-490c-4f13-b7d8-9723d5612907",
   "metadata": {},
   "outputs": [
    {
     "data": {
      "text/plain": [
       "(3, 6, 18)"
      ]
     },
     "execution_count": 13,
     "metadata": {},
     "output_type": "execute_result"
    }
   ],
   "source": [
    "a1.size, a2.size, a3.size"
   ]
  },
  {
   "cell_type": "code",
   "execution_count": 14,
   "id": "44111305-26d9-47bd-8401-ff5c7e868fbd",
   "metadata": {},
   "outputs": [
    {
     "data": {
      "text/plain": [
       "(numpy.ndarray, numpy.ndarray, numpy.ndarray)"
      ]
     },
     "execution_count": 14,
     "metadata": {},
     "output_type": "execute_result"
    }
   ],
   "source": [
    "type(a1), type(a2), type(a3)"
   ]
  },
  {
   "cell_type": "code",
   "execution_count": 15,
   "id": "210af547-560a-4aa6-a60e-d7e1bac19e9b",
   "metadata": {},
   "outputs": [
    {
     "data": {
      "text/html": [
       "<div>\n",
       "<style scoped>\n",
       "    .dataframe tbody tr th:only-of-type {\n",
       "        vertical-align: middle;\n",
       "    }\n",
       "\n",
       "    .dataframe tbody tr th {\n",
       "        vertical-align: top;\n",
       "    }\n",
       "\n",
       "    .dataframe thead th {\n",
       "        text-align: right;\n",
       "    }\n",
       "</style>\n",
       "<table border=\"1\" class=\"dataframe\">\n",
       "  <thead>\n",
       "    <tr style=\"text-align: right;\">\n",
       "      <th></th>\n",
       "      <th>0</th>\n",
       "      <th>1</th>\n",
       "      <th>2</th>\n",
       "    </tr>\n",
       "  </thead>\n",
       "  <tbody>\n",
       "    <tr>\n",
       "      <th>0</th>\n",
       "      <td>1.0</td>\n",
       "      <td>2.0</td>\n",
       "      <td>3.3</td>\n",
       "    </tr>\n",
       "    <tr>\n",
       "      <th>1</th>\n",
       "      <td>4.0</td>\n",
       "      <td>5.0</td>\n",
       "      <td>6.5</td>\n",
       "    </tr>\n",
       "  </tbody>\n",
       "</table>\n",
       "</div>"
      ],
      "text/plain": [
       "     0    1    2\n",
       "0  1.0  2.0  3.3\n",
       "1  4.0  5.0  6.5"
      ]
     },
     "execution_count": 15,
     "metadata": {},
     "output_type": "execute_result"
    }
   ],
   "source": [
    "# Create a DataFrame fron a NumPy array\n",
    "import pandas as pd\n",
    "\n",
    "df = pd.DataFrame(a2)\n",
    "df"
   ]
  },
  {
   "cell_type": "markdown",
   "id": "6ff5a01c-9815-4852-b7a5-f5a55e250478",
   "metadata": {},
   "source": [
    "## 2. Creating NumPy arrays"
   ]
  },
  {
   "cell_type": "code",
   "execution_count": 16,
   "id": "9786b2df-79fc-4d75-8662-2120066c1d9e",
   "metadata": {},
   "outputs": [
    {
     "data": {
      "text/plain": [
       "array([1, 2, 3])"
      ]
     },
     "execution_count": 16,
     "metadata": {},
     "output_type": "execute_result"
    }
   ],
   "source": [
    "sample_array = np.array([1, 2, 3])\n",
    "sample_array"
   ]
  },
  {
   "cell_type": "code",
   "execution_count": 17,
   "id": "d273a3cc-d3a2-437f-83d1-ca030c58d3ae",
   "metadata": {},
   "outputs": [
    {
     "data": {
      "text/plain": [
       "dtype('int32')"
      ]
     },
     "execution_count": 17,
     "metadata": {},
     "output_type": "execute_result"
    }
   ],
   "source": [
    "sample_array.dtype"
   ]
  },
  {
   "cell_type": "code",
   "execution_count": 18,
   "id": "dd614bab-de1c-4c49-b2b0-6b7d11c52ae3",
   "metadata": {},
   "outputs": [],
   "source": [
    "ones = np.ones((2,3))"
   ]
  },
  {
   "cell_type": "code",
   "execution_count": 19,
   "id": "d8aa0490-d04b-485e-ab1b-0ff7828e4997",
   "metadata": {},
   "outputs": [
    {
     "data": {
      "text/plain": [
       "array([[1., 1., 1.],\n",
       "       [1., 1., 1.]])"
      ]
     },
     "execution_count": 19,
     "metadata": {},
     "output_type": "execute_result"
    }
   ],
   "source": [
    "ones"
   ]
  },
  {
   "cell_type": "code",
   "execution_count": 20,
   "id": "e982a764-8646-455a-a932-452aa82f55d8",
   "metadata": {},
   "outputs": [
    {
     "data": {
      "text/plain": [
       "dtype('float64')"
      ]
     },
     "execution_count": 20,
     "metadata": {},
     "output_type": "execute_result"
    }
   ],
   "source": [
    "ones.dtype"
   ]
  },
  {
   "cell_type": "code",
   "execution_count": 21,
   "id": "f655335a-5050-41c3-a954-1854edc4e80d",
   "metadata": {},
   "outputs": [
    {
     "data": {
      "text/plain": [
       "numpy.ndarray"
      ]
     },
     "execution_count": 21,
     "metadata": {},
     "output_type": "execute_result"
    }
   ],
   "source": [
    "type(ones)"
   ]
  },
  {
   "cell_type": "code",
   "execution_count": 22,
   "id": "83d5b9f4-c4e0-4363-a541-f078ade1e7e5",
   "metadata": {},
   "outputs": [],
   "source": [
    "zeros = np.zeros((2,3))"
   ]
  },
  {
   "cell_type": "code",
   "execution_count": 23,
   "id": "33eddac8-312c-4061-83fc-5e3275bfa8c4",
   "metadata": {},
   "outputs": [
    {
     "data": {
      "text/plain": [
       "array([[0., 0., 0.],\n",
       "       [0., 0., 0.]])"
      ]
     },
     "execution_count": 23,
     "metadata": {},
     "output_type": "execute_result"
    }
   ],
   "source": [
    "zeros"
   ]
  },
  {
   "cell_type": "code",
   "execution_count": 24,
   "id": "99d3a310-1ec0-4dc6-a55b-b7fd0c6c3433",
   "metadata": {},
   "outputs": [
    {
     "data": {
      "text/plain": [
       "array([0, 2, 4, 6, 8])"
      ]
     },
     "execution_count": 24,
     "metadata": {},
     "output_type": "execute_result"
    }
   ],
   "source": [
    "range_array = np.arange(0, 10, 2)\n",
    "range_array"
   ]
  },
  {
   "cell_type": "code",
   "execution_count": 25,
   "id": "f9304e99-0dc0-45b3-b1b6-3a31469e1351",
   "metadata": {},
   "outputs": [
    {
     "data": {
      "text/plain": [
       "array([[2, 7, 3, 1, 0],\n",
       "       [9, 9, 6, 2, 1],\n",
       "       [4, 4, 8, 1, 0]])"
      ]
     },
     "execution_count": 25,
     "metadata": {},
     "output_type": "execute_result"
    }
   ],
   "source": [
    "random_array = np.random.randint(0, 10, size = (3, 5))\n",
    "random_array"
   ]
  },
  {
   "cell_type": "code",
   "execution_count": 26,
   "id": "fdd1b446-a6bb-4804-ae96-0e12af7e5b4b",
   "metadata": {},
   "outputs": [
    {
     "data": {
      "text/plain": [
       "15"
      ]
     },
     "execution_count": 26,
     "metadata": {},
     "output_type": "execute_result"
    }
   ],
   "source": [
    "random_array.size"
   ]
  },
  {
   "cell_type": "code",
   "execution_count": 27,
   "id": "28324fb9-918c-477e-a815-bc9a9f193aaa",
   "metadata": {},
   "outputs": [
    {
     "data": {
      "text/plain": [
       "(3, 5)"
      ]
     },
     "execution_count": 27,
     "metadata": {},
     "output_type": "execute_result"
    }
   ],
   "source": [
    "random_array.shape"
   ]
  },
  {
   "cell_type": "code",
   "execution_count": 28,
   "id": "705d279b-7c20-4860-8833-73b2ffcafb39",
   "metadata": {},
   "outputs": [
    {
     "data": {
      "text/plain": [
       "array([[0.61272668, 0.59491182, 0.61861269],\n",
       "       [0.82244622, 0.73676946, 0.5106369 ],\n",
       "       [0.56709379, 0.24394799, 0.0404923 ],\n",
       "       [0.85683346, 0.85880331, 0.83957153],\n",
       "       [0.71764081, 0.68643562, 0.71100506]])"
      ]
     },
     "execution_count": 28,
     "metadata": {},
     "output_type": "execute_result"
    }
   ],
   "source": [
    "random_array_2 = np.random.random((5, 3))\n",
    "random_array_2"
   ]
  },
  {
   "cell_type": "code",
   "execution_count": 29,
   "id": "6b5d9330-255b-4ad0-97fe-edc631a15df7",
   "metadata": {},
   "outputs": [
    {
     "data": {
      "text/plain": [
       "(5, 3)"
      ]
     },
     "execution_count": 29,
     "metadata": {},
     "output_type": "execute_result"
    }
   ],
   "source": [
    "random_array_2.shape"
   ]
  },
  {
   "cell_type": "code",
   "execution_count": 30,
   "id": "1699698b-afad-44d1-bd2a-76bac6023730",
   "metadata": {},
   "outputs": [
    {
     "data": {
      "text/plain": [
       "array([[0.32332629, 0.15859803, 0.25959795],\n",
       "       [0.26551594, 0.17015654, 0.9737477 ],\n",
       "       [0.50497994, 0.6694796 , 0.55667592],\n",
       "       [0.54239328, 0.1106371 , 0.83816241],\n",
       "       [0.97935556, 0.86824562, 0.55415327]])"
      ]
     },
     "execution_count": 30,
     "metadata": {},
     "output_type": "execute_result"
    }
   ],
   "source": [
    "random_array_3 = np.random.rand(5, 3)\n",
    "random_array_3"
   ]
  },
  {
   "cell_type": "code",
   "execution_count": 31,
   "id": "02a7cf79-3dae-4d20-ae4e-aa79e033d963",
   "metadata": {},
   "outputs": [
    {
     "data": {
      "text/plain": [
       "array([[8, 8, 6],\n",
       "       [2, 8, 7],\n",
       "       [2, 1, 5],\n",
       "       [4, 4, 5],\n",
       "       [7, 3, 6]])"
      ]
     },
     "execution_count": 31,
     "metadata": {},
     "output_type": "execute_result"
    }
   ],
   "source": [
    "# Pseudo-random numbers\n",
    "np.random.seed(seed=2)\n",
    "random_array_4 = np.random.randint(10, size = (5,3))\n",
    "random_array_4"
   ]
  },
  {
   "cell_type": "code",
   "execution_count": 32,
   "id": "e18ba156-84d6-4359-b25d-f813eb1ea7a0",
   "metadata": {},
   "outputs": [
    {
     "data": {
      "text/plain": [
       "array([[0.07630829, 0.77991879, 0.43840923],\n",
       "       [0.72346518, 0.97798951, 0.53849587],\n",
       "       [0.50112046, 0.07205113, 0.26843898],\n",
       "       [0.4998825 , 0.67923   , 0.80373904],\n",
       "       [0.38094113, 0.06593635, 0.2881456 ]])"
      ]
     },
     "execution_count": 32,
     "metadata": {},
     "output_type": "execute_result"
    }
   ],
   "source": [
    "np.random.seed(seed=7)\n",
    "random_array_5 = np.random.random((5, 3))\n",
    "random_array_5"
   ]
  },
  {
   "cell_type": "code",
   "execution_count": 33,
   "id": "4e32b540-368f-4fcb-a9c8-543fe311f042",
   "metadata": {},
   "outputs": [
    {
     "data": {
      "text/plain": [
       "(5, 3)"
      ]
     },
     "execution_count": 33,
     "metadata": {},
     "output_type": "execute_result"
    }
   ],
   "source": [
    "random_array_4.shape"
   ]
  },
  {
   "cell_type": "code",
   "execution_count": 34,
   "id": "ad058939-7431-4d46-945a-5067a754443a",
   "metadata": {},
   "outputs": [
    {
     "data": {
      "text/plain": [
       "array([[8, 8, 6],\n",
       "       [2, 8, 7],\n",
       "       [2, 1, 5],\n",
       "       [4, 4, 5],\n",
       "       [7, 3, 6]])"
      ]
     },
     "execution_count": 34,
     "metadata": {},
     "output_type": "execute_result"
    }
   ],
   "source": [
    "random_array_4"
   ]
  },
  {
   "cell_type": "markdown",
   "id": "e0ef41c2-669b-468d-9bbf-8f00cec19681",
   "metadata": {},
   "source": [
    "## 3. Viewing arrays & matrices"
   ]
  },
  {
   "cell_type": "code",
   "execution_count": 35,
   "id": "8538372f-6d86-4c5d-9b04-164271e88e61",
   "metadata": {},
   "outputs": [
    {
     "data": {
      "text/plain": [
       "array([1, 2, 3, 4, 5, 6, 7, 8])"
      ]
     },
     "execution_count": 35,
     "metadata": {},
     "output_type": "execute_result"
    }
   ],
   "source": [
    "np.unique(random_array_4)"
   ]
  },
  {
   "cell_type": "code",
   "execution_count": 36,
   "id": "548b16e1-5c00-4794-9fc3-502d8add2721",
   "metadata": {},
   "outputs": [
    {
     "data": {
      "text/plain": [
       "array([1, 2, 3])"
      ]
     },
     "execution_count": 36,
     "metadata": {},
     "output_type": "execute_result"
    }
   ],
   "source": [
    "a1"
   ]
  },
  {
   "cell_type": "code",
   "execution_count": 37,
   "id": "bdc72cc8-4364-45e0-bc73-a392cb93c8c0",
   "metadata": {},
   "outputs": [
    {
     "data": {
      "text/plain": [
       "array([[1. , 2. , 3.3],\n",
       "       [4. , 5. , 6.5]])"
      ]
     },
     "execution_count": 37,
     "metadata": {},
     "output_type": "execute_result"
    }
   ],
   "source": [
    "a2"
   ]
  },
  {
   "cell_type": "code",
   "execution_count": 38,
   "id": "86259250-c291-4f9c-b0a4-4db93580897a",
   "metadata": {},
   "outputs": [
    {
     "data": {
      "text/plain": [
       "array([[[ 1,  2,  3],\n",
       "        [ 4,  5,  6]],\n",
       "\n",
       "       [[ 7,  8,  9],\n",
       "        [10, 11, 12]],\n",
       "\n",
       "       [[13, 14, 15],\n",
       "        [16, 17, 18]]])"
      ]
     },
     "execution_count": 38,
     "metadata": {},
     "output_type": "execute_result"
    }
   ],
   "source": [
    "a3"
   ]
  },
  {
   "cell_type": "code",
   "execution_count": 39,
   "id": "01effdc9-4622-41e6-9fed-761817328b2d",
   "metadata": {},
   "outputs": [
    {
     "data": {
      "text/plain": [
       "1"
      ]
     },
     "execution_count": 39,
     "metadata": {},
     "output_type": "execute_result"
    }
   ],
   "source": [
    "a1[0]"
   ]
  },
  {
   "cell_type": "code",
   "execution_count": 40,
   "id": "d1200b47-a12a-41af-8984-075b76086822",
   "metadata": {},
   "outputs": [
    {
     "data": {
      "text/plain": [
       "array([1. , 2. , 3.3])"
      ]
     },
     "execution_count": 40,
     "metadata": {},
     "output_type": "execute_result"
    }
   ],
   "source": [
    "a2[0]"
   ]
  },
  {
   "cell_type": "code",
   "execution_count": 41,
   "id": "35120749-59e0-4cf0-adb5-ef94bfd93f04",
   "metadata": {},
   "outputs": [
    {
     "data": {
      "text/plain": [
       "array([[1, 2, 3],\n",
       "       [4, 5, 6]])"
      ]
     },
     "execution_count": 41,
     "metadata": {},
     "output_type": "execute_result"
    }
   ],
   "source": [
    "a3[0]"
   ]
  },
  {
   "cell_type": "code",
   "execution_count": 42,
   "id": "30f016c6-ff27-4144-a16d-6b43c2be276b",
   "metadata": {},
   "outputs": [
    {
     "data": {
      "text/plain": [
       "array([[[ 1,  2,  3],\n",
       "        [ 4,  5,  6]],\n",
       "\n",
       "       [[ 7,  8,  9],\n",
       "        [10, 11, 12]],\n",
       "\n",
       "       [[13, 14, 15],\n",
       "        [16, 17, 18]]])"
      ]
     },
     "execution_count": 42,
     "metadata": {},
     "output_type": "execute_result"
    }
   ],
   "source": [
    "a3"
   ]
  },
  {
   "cell_type": "code",
   "execution_count": 43,
   "id": "eedb2adf-4bff-4a43-ba60-24d8a82ed466",
   "metadata": {},
   "outputs": [
    {
     "data": {
      "text/plain": [
       "array([[[ 1,  2],\n",
       "        [ 4,  5]],\n",
       "\n",
       "       [[ 7,  8],\n",
       "        [10, 11]]])"
      ]
     },
     "execution_count": 43,
     "metadata": {},
     "output_type": "execute_result"
    }
   ],
   "source": [
    "a3[:2, :2, :2]"
   ]
  },
  {
   "cell_type": "code",
   "execution_count": 44,
   "id": "222d8c09-0ca7-46e5-9680-5ad999b84d3c",
   "metadata": {},
   "outputs": [],
   "source": [
    "a4 = np.random.randint(10, size = (2, 3, 4, 5))"
   ]
  },
  {
   "cell_type": "code",
   "execution_count": 45,
   "id": "00e5e560-5a92-44ee-a064-3b709d14dc5e",
   "metadata": {},
   "outputs": [
    {
     "data": {
      "text/plain": [
       "array([[[[3, 5, 8, 8, 7],\n",
       "         [5, 0, 0, 2, 8],\n",
       "         [9, 6, 4, 9, 7],\n",
       "         [3, 3, 8, 3, 0]],\n",
       "\n",
       "        [[1, 0, 0, 6, 7],\n",
       "         [7, 9, 3, 0, 7],\n",
       "         [7, 7, 0, 5, 4],\n",
       "         [3, 1, 3, 1, 3]],\n",
       "\n",
       "        [[4, 3, 1, 9, 5],\n",
       "         [9, 1, 2, 3, 2],\n",
       "         [2, 5, 7, 3, 0],\n",
       "         [9, 9, 3, 4, 5]]],\n",
       "\n",
       "\n",
       "       [[[3, 0, 4, 8, 6],\n",
       "         [7, 2, 7, 3, 8],\n",
       "         [6, 6, 5, 6, 5],\n",
       "         [7, 1, 5, 4, 4]],\n",
       "\n",
       "        [[9, 9, 0, 6, 2],\n",
       "         [6, 8, 2, 4, 1],\n",
       "         [6, 1, 5, 1, 6],\n",
       "         [9, 8, 6, 5, 9]],\n",
       "\n",
       "        [[7, 5, 4, 9, 6],\n",
       "         [8, 1, 5, 5, 8],\n",
       "         [3, 7, 7, 9, 4],\n",
       "         [7, 5, 9, 6, 2]]]])"
      ]
     },
     "execution_count": 45,
     "metadata": {},
     "output_type": "execute_result"
    }
   ],
   "source": [
    "a4"
   ]
  },
  {
   "cell_type": "code",
   "execution_count": 46,
   "id": "f20830a6-cb0b-4abd-adbc-50eedfd46ddd",
   "metadata": {},
   "outputs": [
    {
     "data": {
      "text/plain": [
       "((2, 3, 4, 5), 4)"
      ]
     },
     "execution_count": 46,
     "metadata": {},
     "output_type": "execute_result"
    }
   ],
   "source": [
    "a4.shape, a4.ndim"
   ]
  },
  {
   "cell_type": "code",
   "execution_count": 47,
   "id": "e7c5c99f-0332-4a5e-b6ef-6a2b1e34b714",
   "metadata": {},
   "outputs": [
    {
     "data": {
      "text/plain": [
       "array([[[[3],\n",
       "         [5],\n",
       "         [9],\n",
       "         [3]],\n",
       "\n",
       "        [[1],\n",
       "         [7],\n",
       "         [7],\n",
       "         [3]],\n",
       "\n",
       "        [[4],\n",
       "         [9],\n",
       "         [2],\n",
       "         [9]]],\n",
       "\n",
       "\n",
       "       [[[3],\n",
       "         [7],\n",
       "         [6],\n",
       "         [7]],\n",
       "\n",
       "        [[9],\n",
       "         [6],\n",
       "         [6],\n",
       "         [9]],\n",
       "\n",
       "        [[7],\n",
       "         [8],\n",
       "         [3],\n",
       "         [7]]]])"
      ]
     },
     "execution_count": 47,
     "metadata": {},
     "output_type": "execute_result"
    }
   ],
   "source": [
    "# Get the first 4 numbers of the inner most array\n",
    "a4[:, :, :, :1]"
   ]
  },
  {
   "cell_type": "markdown",
   "id": "ed5e6669-43ed-46a8-a9fe-2c9ae159e50b",
   "metadata": {},
   "source": [
    "## 4.Manipulating & comparing arrays"
   ]
  },
  {
   "cell_type": "markdown",
   "id": "9fe52cd2-9266-493e-945e-dc9a3cc4d9bf",
   "metadata": {},
   "source": [
    "### Arithmetic"
   ]
  },
  {
   "cell_type": "code",
   "execution_count": 48,
   "id": "165cbe89-1ee8-4faf-a178-e0c54d0f7be0",
   "metadata": {},
   "outputs": [
    {
     "data": {
      "text/plain": [
       "array([1, 2, 3])"
      ]
     },
     "execution_count": 48,
     "metadata": {},
     "output_type": "execute_result"
    }
   ],
   "source": [
    "a1"
   ]
  },
  {
   "cell_type": "code",
   "execution_count": 49,
   "id": "cd28758a-616e-400f-ad04-e665edde1521",
   "metadata": {},
   "outputs": [
    {
     "data": {
      "text/plain": [
       "array([1., 1., 1.])"
      ]
     },
     "execution_count": 49,
     "metadata": {},
     "output_type": "execute_result"
    }
   ],
   "source": [
    "ones = np.ones(3)\n",
    "ones"
   ]
  },
  {
   "cell_type": "code",
   "execution_count": 50,
   "id": "2106d693-fb71-4389-be7d-0c727929d1a7",
   "metadata": {},
   "outputs": [
    {
     "data": {
      "text/plain": [
       "array([2., 3., 4.])"
      ]
     },
     "execution_count": 50,
     "metadata": {},
     "output_type": "execute_result"
    }
   ],
   "source": [
    "a1 + ones"
   ]
  },
  {
   "cell_type": "code",
   "execution_count": 51,
   "id": "2b488fb2-323d-4f16-8818-82b1b8c51928",
   "metadata": {},
   "outputs": [
    {
     "data": {
      "text/plain": [
       "array([0., 1., 2.])"
      ]
     },
     "execution_count": 51,
     "metadata": {},
     "output_type": "execute_result"
    }
   ],
   "source": [
    "a1 - ones"
   ]
  },
  {
   "cell_type": "code",
   "execution_count": 52,
   "id": "0fd2cec9-7aeb-4229-98bd-5d84b48eb13d",
   "metadata": {},
   "outputs": [
    {
     "data": {
      "text/plain": [
       "array([1., 2., 3.])"
      ]
     },
     "execution_count": 52,
     "metadata": {},
     "output_type": "execute_result"
    }
   ],
   "source": [
    "a1 * ones"
   ]
  },
  {
   "cell_type": "code",
   "execution_count": 53,
   "id": "1c8232bf-b1b4-43cd-a75d-26a445545ffd",
   "metadata": {},
   "outputs": [
    {
     "data": {
      "text/plain": [
       "array([[1. , 2. , 3.3],\n",
       "       [4. , 5. , 6.5]])"
      ]
     },
     "execution_count": 53,
     "metadata": {},
     "output_type": "execute_result"
    }
   ],
   "source": [
    "a2"
   ]
  },
  {
   "cell_type": "code",
   "execution_count": 54,
   "id": "74f91535-533d-45c6-a41f-a2ebc5a906f6",
   "metadata": {},
   "outputs": [
    {
     "data": {
      "text/plain": [
       "array([1, 2, 3])"
      ]
     },
     "execution_count": 54,
     "metadata": {},
     "output_type": "execute_result"
    }
   ],
   "source": [
    "a1"
   ]
  },
  {
   "cell_type": "code",
   "execution_count": 55,
   "id": "92dd2ba2-ce6d-43c3-b8bb-bb5f26a8b82f",
   "metadata": {},
   "outputs": [
    {
     "data": {
      "text/plain": [
       "array([[ 1. ,  4. ,  9.9],\n",
       "       [ 4. , 10. , 19.5]])"
      ]
     },
     "execution_count": 55,
     "metadata": {},
     "output_type": "execute_result"
    }
   ],
   "source": [
    "a1 * a2"
   ]
  },
  {
   "cell_type": "code",
   "execution_count": 56,
   "id": "719b282d-8ec6-4c15-8c6f-8a09a7d45090",
   "metadata": {},
   "outputs": [
    {
     "data": {
      "text/plain": [
       "array([[[ 1,  2,  3],\n",
       "        [ 4,  5,  6]],\n",
       "\n",
       "       [[ 7,  8,  9],\n",
       "        [10, 11, 12]],\n",
       "\n",
       "       [[13, 14, 15],\n",
       "        [16, 17, 18]]])"
      ]
     },
     "execution_count": 56,
     "metadata": {},
     "output_type": "execute_result"
    }
   ],
   "source": [
    "a3"
   ]
  },
  {
   "cell_type": "code",
   "execution_count": 57,
   "id": "b9ea7dba-0ba4-4d98-8256-999c6a467af8",
   "metadata": {},
   "outputs": [
    {
     "data": {
      "text/plain": [
       "array([[[  1. ,   4. ,   9.9],\n",
       "        [ 16. ,  25. ,  39. ]],\n",
       "\n",
       "       [[  7. ,  16. ,  29.7],\n",
       "        [ 40. ,  55. ,  78. ]],\n",
       "\n",
       "       [[ 13. ,  28. ,  49.5],\n",
       "        [ 64. ,  85. , 117. ]]])"
      ]
     },
     "execution_count": 57,
     "metadata": {},
     "output_type": "execute_result"
    }
   ],
   "source": [
    "a2 * a3"
   ]
  },
  {
   "cell_type": "code",
   "execution_count": 58,
   "id": "e71180d4-070a-43aa-bc2c-3de3e7a0cb12",
   "metadata": {},
   "outputs": [
    {
     "data": {
      "text/plain": [
       "array([1., 2., 3.])"
      ]
     },
     "execution_count": 58,
     "metadata": {},
     "output_type": "execute_result"
    }
   ],
   "source": [
    "a1 / ones"
   ]
  },
  {
   "cell_type": "code",
   "execution_count": 59,
   "id": "9b8fafb7-2d06-4dc9-a2f4-bafa598d1504",
   "metadata": {},
   "outputs": [
    {
     "data": {
      "text/plain": [
       "array([[1., 1., 1.],\n",
       "       [4., 2., 2.]])"
      ]
     },
     "execution_count": 59,
     "metadata": {},
     "output_type": "execute_result"
    }
   ],
   "source": [
    "# Floor division removes the decimals (rounds down)\n",
    "a2 // a1"
   ]
  },
  {
   "cell_type": "code",
   "execution_count": 60,
   "id": "209d59fd-637f-42dc-ac16-233c7431a14a",
   "metadata": {},
   "outputs": [
    {
     "data": {
      "text/plain": [
       "array([[1. , 2. , 3.3],\n",
       "       [4. , 5. , 6.5]])"
      ]
     },
     "execution_count": 60,
     "metadata": {},
     "output_type": "execute_result"
    }
   ],
   "source": [
    "a2"
   ]
  },
  {
   "cell_type": "code",
   "execution_count": 61,
   "id": "f8f33556-0627-40fa-80eb-d8a791ed12f6",
   "metadata": {},
   "outputs": [
    {
     "data": {
      "text/plain": [
       "array([[ 1.  ,  4.  , 10.89],\n",
       "       [16.  , 25.  , 42.25]])"
      ]
     },
     "execution_count": 61,
     "metadata": {},
     "output_type": "execute_result"
    }
   ],
   "source": [
    "a2 ** 2"
   ]
  },
  {
   "cell_type": "code",
   "execution_count": 62,
   "id": "35825223-e7b8-4984-8503-b3817f713c96",
   "metadata": {},
   "outputs": [
    {
     "data": {
      "text/plain": [
       "array([[ 1.  ,  4.  , 10.89],\n",
       "       [16.  , 25.  , 42.25]])"
      ]
     },
     "execution_count": 62,
     "metadata": {},
     "output_type": "execute_result"
    }
   ],
   "source": [
    "np.square(a2)"
   ]
  },
  {
   "cell_type": "code",
   "execution_count": 63,
   "id": "8299c713-c3f2-4954-94d3-5165e2e6b937",
   "metadata": {},
   "outputs": [
    {
     "data": {
      "text/plain": [
       "array([[1. , 0. , 1.3],\n",
       "       [0. , 1. , 0.5]])"
      ]
     },
     "execution_count": 63,
     "metadata": {},
     "output_type": "execute_result"
    }
   ],
   "source": [
    "a2 % 2"
   ]
  },
  {
   "cell_type": "markdown",
   "id": "c7483d06-0d16-4d3c-9509-0fd5444370f3",
   "metadata": {},
   "source": [
    "### Aggregation"
   ]
  },
  {
   "cell_type": "markdown",
   "id": "d061f579-352c-46bf-ac2e-6638006ec21c",
   "metadata": {},
   "source": [
    "Aggregation = performing the same operation on a number of things"
   ]
  },
  {
   "cell_type": "code",
   "execution_count": 64,
   "id": "fa18e3fb-407c-4725-84ec-92f80771b385",
   "metadata": {},
   "outputs": [
    {
     "data": {
      "text/plain": [
       "list"
      ]
     },
     "execution_count": 64,
     "metadata": {},
     "output_type": "execute_result"
    }
   ],
   "source": [
    "listy_list = [1, 2, 3]\n",
    "type(listy_list)"
   ]
  },
  {
   "cell_type": "code",
   "execution_count": 65,
   "id": "1d1be336-8ff9-421c-a8ff-198d79e959b0",
   "metadata": {},
   "outputs": [
    {
     "data": {
      "text/plain": [
       "6"
      ]
     },
     "execution_count": 65,
     "metadata": {},
     "output_type": "execute_result"
    }
   ],
   "source": [
    "sum(listy_list)"
   ]
  },
  {
   "cell_type": "code",
   "execution_count": 66,
   "id": "e8b40559-163c-44ea-b4fd-2c14a30d795e",
   "metadata": {},
   "outputs": [
    {
     "data": {
      "text/plain": [
       "array([1, 2, 3])"
      ]
     },
     "execution_count": 66,
     "metadata": {},
     "output_type": "execute_result"
    }
   ],
   "source": [
    "a1"
   ]
  },
  {
   "cell_type": "code",
   "execution_count": 67,
   "id": "404b0641-a1fe-4703-b989-91f313355b2a",
   "metadata": {},
   "outputs": [
    {
     "data": {
      "text/plain": [
       "numpy.ndarray"
      ]
     },
     "execution_count": 67,
     "metadata": {},
     "output_type": "execute_result"
    }
   ],
   "source": [
    "type(a1)"
   ]
  },
  {
   "cell_type": "code",
   "execution_count": 68,
   "id": "af30ea88-2cbe-4f84-8f28-18ccc1f0d11f",
   "metadata": {},
   "outputs": [
    {
     "data": {
      "text/plain": [
       "6"
      ]
     },
     "execution_count": 68,
     "metadata": {},
     "output_type": "execute_result"
    }
   ],
   "source": [
    "sum(a1)"
   ]
  },
  {
   "cell_type": "code",
   "execution_count": 69,
   "id": "746218b1-c427-43a7-ac34-ee6146f3f4e9",
   "metadata": {},
   "outputs": [
    {
     "data": {
      "text/plain": [
       "6"
      ]
     },
     "execution_count": 69,
     "metadata": {},
     "output_type": "execute_result"
    }
   ],
   "source": [
    "np.sum(a1)"
   ]
  },
  {
   "cell_type": "markdown",
   "id": "5cb9683e-6775-44bf-8ddd-f20ce598e5d6",
   "metadata": {},
   "source": [
    "#### Use Pythons methods(sum()) on Python datatypes and use NumpPy methods(np.sum()) on numpy arrays\n"
   ]
  },
  {
   "cell_type": "code",
   "execution_count": 70,
   "id": "95ccd5b2-f7f8-43bc-ba01-a5ad4fa2d709",
   "metadata": {},
   "outputs": [],
   "source": [
    "# Creative a massive NumPy array\n",
    "massive_array = np.random.random(100000)"
   ]
  },
  {
   "cell_type": "code",
   "execution_count": 71,
   "id": "4de44525-df34-490a-a793-0d913c9c11b6",
   "metadata": {},
   "outputs": [
    {
     "data": {
      "text/plain": [
       "100000"
      ]
     },
     "execution_count": 71,
     "metadata": {},
     "output_type": "execute_result"
    }
   ],
   "source": [
    "massive_array.size"
   ]
  },
  {
   "cell_type": "code",
   "execution_count": 72,
   "id": "6c29f54b-3a85-477f-93f9-68297a15524e",
   "metadata": {},
   "outputs": [
    {
     "data": {
      "text/plain": [
       "array([0.82845319, 0.94180927, 0.12814785, 0.23043067, 0.6591584 ,\n",
       "       0.13247399, 0.22407864, 0.57486259, 0.16952372, 0.78223015])"
      ]
     },
     "execution_count": 72,
     "metadata": {},
     "output_type": "execute_result"
    }
   ],
   "source": [
    "massive_array[:10]"
   ]
  },
  {
   "cell_type": "code",
   "execution_count": 73,
   "id": "bd88cb1a-03ab-42ba-a0a9-c88efbda0fc5",
   "metadata": {},
   "outputs": [
    {
     "name": "stdout",
     "output_type": "stream",
     "text": [
      "6.3 ms ± 147 μs per loop (mean ± std. dev. of 7 runs, 100 loops each)\n",
      "29.1 μs ± 353 ns per loop (mean ± std. dev. of 7 runs, 10,000 loops each)\n"
     ]
    }
   ],
   "source": [
    "%timeit sum(massive_array) # Python's sum()\n",
    "%timeit np.sum(massive_array) # NumPy's sum()"
   ]
  },
  {
   "cell_type": "code",
   "execution_count": 74,
   "id": "ec45fa1b-f5b2-4e23-bdb3-18f133643056",
   "metadata": {},
   "outputs": [
    {
     "data": {
      "text/plain": [
       "array([[1. , 2. , 3.3],\n",
       "       [4. , 5. , 6.5]])"
      ]
     },
     "execution_count": 74,
     "metadata": {},
     "output_type": "execute_result"
    }
   ],
   "source": [
    "a2"
   ]
  },
  {
   "cell_type": "code",
   "execution_count": 75,
   "id": "e4aa2ffb-0d42-46e5-b5ce-31840e373d52",
   "metadata": {},
   "outputs": [
    {
     "data": {
      "text/plain": [
       "3.6333333333333333"
      ]
     },
     "execution_count": 75,
     "metadata": {},
     "output_type": "execute_result"
    }
   ],
   "source": [
    "np.mean(a2)"
   ]
  },
  {
   "cell_type": "code",
   "execution_count": 76,
   "id": "80a3390b-3b1c-4ddf-ab2c-9030cddd8e91",
   "metadata": {},
   "outputs": [
    {
     "data": {
      "text/plain": [
       "6.5"
      ]
     },
     "execution_count": 76,
     "metadata": {},
     "output_type": "execute_result"
    }
   ],
   "source": [
    "np.max(a2)"
   ]
  },
  {
   "cell_type": "code",
   "execution_count": 77,
   "id": "561d3f64-85f7-4009-8454-0d76c9019d7a",
   "metadata": {},
   "outputs": [
    {
     "data": {
      "text/plain": [
       "1.0"
      ]
     },
     "execution_count": 77,
     "metadata": {},
     "output_type": "execute_result"
    }
   ],
   "source": [
    "np.min(a2)"
   ]
  },
  {
   "cell_type": "code",
   "execution_count": 78,
   "id": "4ae0cda3-93ef-4c61-9369-30fa415cb4b0",
   "metadata": {},
   "outputs": [
    {
     "data": {
      "text/plain": [
       "1.8226964152656422"
      ]
     },
     "execution_count": 78,
     "metadata": {},
     "output_type": "execute_result"
    }
   ],
   "source": [
    "# Stadard deviation = a measure of low spread out a group of numbers is from the mean\n",
    "np.std(a2)"
   ]
  },
  {
   "cell_type": "code",
   "execution_count": 79,
   "id": "4f9a1eaa-eaf3-4b96-92e1-653a3f1ee82b",
   "metadata": {},
   "outputs": [
    {
     "data": {
      "text/plain": [
       "3.3222222222222224"
      ]
     },
     "execution_count": 79,
     "metadata": {},
     "output_type": "execute_result"
    }
   ],
   "source": [
    "# Variance= measure of the average degree to which each number is different\n",
    "# Higher variance = wider range of numbers\n",
    "# Lower variance = lower range of numbers\n",
    "np.var(a2)"
   ]
  },
  {
   "cell_type": "code",
   "execution_count": 80,
   "id": "581872f1-c613-4467-90a0-e4ee70808833",
   "metadata": {},
   "outputs": [
    {
     "data": {
      "text/plain": [
       "1.8226964152656422"
      ]
     },
     "execution_count": 80,
     "metadata": {},
     "output_type": "execute_result"
    }
   ],
   "source": [
    "# Standard devation = squareroot of variance\n",
    "np.sqrt(np.var(a2))"
   ]
  },
  {
   "cell_type": "code",
   "execution_count": 81,
   "id": "0622598d-1e22-4c4a-9e0b-bf9cfb3eda92",
   "metadata": {},
   "outputs": [],
   "source": [
    "# Demo of std and var\n",
    "high_var_array = np.array([1, 100, 200, 300, 4000, 5000])\n",
    "low_var_array = np.array([2, 4, 6, 8, 10])"
   ]
  },
  {
   "cell_type": "code",
   "execution_count": 82,
   "id": "e3b81c28-2b30-41b2-872f-81e3984b044f",
   "metadata": {},
   "outputs": [
    {
     "data": {
      "text/plain": [
       "(4296133.472222221, 8.0)"
      ]
     },
     "execution_count": 82,
     "metadata": {},
     "output_type": "execute_result"
    }
   ],
   "source": [
    "np.var(high_var_array), np.var(low_var_array)"
   ]
  },
  {
   "cell_type": "code",
   "execution_count": 83,
   "id": "ef9adfd3-9937-487a-849d-9ca5d32abde1",
   "metadata": {},
   "outputs": [
    {
     "data": {
      "text/plain": [
       "(2072.711623024829, 2.8284271247461903)"
      ]
     },
     "execution_count": 83,
     "metadata": {},
     "output_type": "execute_result"
    }
   ],
   "source": [
    "np.std(high_var_array) ,np.std(low_var_array)"
   ]
  },
  {
   "cell_type": "code",
   "execution_count": 84,
   "id": "07521770-b4f2-4e62-88ad-98dd35eb1521",
   "metadata": {},
   "outputs": [
    {
     "data": {
      "text/plain": [
       "(1600.1666666666667, 6.0)"
      ]
     },
     "execution_count": 84,
     "metadata": {},
     "output_type": "execute_result"
    }
   ],
   "source": [
    "np.mean(high_var_array), np.mean(low_var_array)"
   ]
  },
  {
   "cell_type": "code",
   "execution_count": 85,
   "id": "496cbb23-6a8f-4a1a-8558-5fe544e5ff1d",
   "metadata": {},
   "outputs": [
    {
     "data": {
      "image/png": "[encoded data removed]",
      "text/plain": [
       "<Figure size 640x480 with 1 Axes>"
      ]
     },
     "metadata": {},
     "output_type": "display_data"
    }
   ],
   "source": [
    "%matplotlib inline\n",
    "import matplotlib.pyplot as plt\n",
    "plt.hist(high_var_array)\n",
    "plt.show()\n"
   ]
  },
  {
   "cell_type": "code",
   "execution_count": 86,
   "id": "f5fa81e7-1e3c-42ef-b421-4fc675a9247b",
   "metadata": {},
   "outputs": [
    {
     "data": {
      "image/png": "[encoded data removed]",
      "text/plain": [
       "<Figure size 640x480 with 1 Axes>"
      ]
     },
     "metadata": {},
     "output_type": "display_data"
    }
   ],
   "source": [
    "plt.hist(low_var_array)\n",
    "plt.show()"
   ]
  },
  {
   "cell_type": "markdown",
   "id": "dd2493ec-79cd-4f97-b7fb-64671cb01616",
   "metadata": {},
   "source": [
    "## Reshaping and Transposing"
   ]
  },
  {
   "cell_type": "code",
   "execution_count": 87,
   "id": "6138a70f-b1a2-43bc-9b10-8e361c087173",
   "metadata": {},
   "outputs": [
    {
     "data": {
      "text/plain": [
       "array([[1. , 2. , 3.3],\n",
       "       [4. , 5. , 6.5]])"
      ]
     },
     "execution_count": 87,
     "metadata": {},
     "output_type": "execute_result"
    }
   ],
   "source": [
    "a2"
   ]
  },
  {
   "cell_type": "code",
   "execution_count": 88,
   "id": "9cacf49c-86c9-4924-9e58-0d9af21df25c",
   "metadata": {},
   "outputs": [
    {
     "data": {
      "text/plain": [
       "(2, 3)"
      ]
     },
     "execution_count": 88,
     "metadata": {},
     "output_type": "execute_result"
    }
   ],
   "source": [
    "a2.shape"
   ]
  },
  {
   "cell_type": "code",
   "execution_count": 89,
   "id": "3edbe22b-b8b6-473e-8adb-15f0e73d5e1a",
   "metadata": {},
   "outputs": [
    {
     "data": {
      "text/plain": [
       "array([[[ 1,  2,  3],\n",
       "        [ 4,  5,  6]],\n",
       "\n",
       "       [[ 7,  8,  9],\n",
       "        [10, 11, 12]],\n",
       "\n",
       "       [[13, 14, 15],\n",
       "        [16, 17, 18]]])"
      ]
     },
     "execution_count": 89,
     "metadata": {},
     "output_type": "execute_result"
    }
   ],
   "source": [
    "a3"
   ]
  },
  {
   "cell_type": "code",
   "execution_count": 90,
   "id": "40943379-a9fe-4846-b03f-a2a908e7e056",
   "metadata": {},
   "outputs": [
    {
     "data": {
      "text/plain": [
       "(3, 2, 3)"
      ]
     },
     "execution_count": 90,
     "metadata": {},
     "output_type": "execute_result"
    }
   ],
   "source": [
    "a3.shape"
   ]
  },
  {
   "cell_type": "code",
   "execution_count": 91,
   "id": "05e747e8-b8fa-4b00-a032-a5ded0e120c7",
   "metadata": {},
   "outputs": [
    {
     "data": {
      "text/plain": [
       "array([[[  1. ,   4. ,   9.9],\n",
       "        [ 16. ,  25. ,  39. ]],\n",
       "\n",
       "       [[  7. ,  16. ,  29.7],\n",
       "        [ 40. ,  55. ,  78. ]],\n",
       "\n",
       "       [[ 13. ,  28. ,  49.5],\n",
       "        [ 64. ,  85. , 117. ]]])"
      ]
     },
     "execution_count": 91,
     "metadata": {},
     "output_type": "execute_result"
    }
   ],
   "source": [
    "a2 * a3"
   ]
  },
  {
   "cell_type": "code",
   "execution_count": 92,
   "id": "3e0f9112-b4cb-4fed-b349-c8b30831c564",
   "metadata": {},
   "outputs": [
    {
     "data": {
      "text/plain": [
       "array([[[ 1,  7, 13],\n",
       "        [ 4, 10, 16]],\n",
       "\n",
       "       [[ 2,  8, 14],\n",
       "        [ 5, 11, 17]],\n",
       "\n",
       "       [[ 3,  9, 15],\n",
       "        [ 6, 12, 18]]])"
      ]
     },
     "execution_count": 92,
     "metadata": {},
     "output_type": "execute_result"
    }
   ],
   "source": [
    "# Transpose swaps the axis\n",
    "a3.T"
   ]
  },
  {
   "cell_type": "code",
   "execution_count": 93,
   "id": "ad1bf4c5-14d9-4e35-95bd-7627d1ffc514",
   "metadata": {},
   "outputs": [
    {
     "data": {
      "text/plain": [
       "(3, 2, 3)"
      ]
     },
     "execution_count": 93,
     "metadata": {},
     "output_type": "execute_result"
    }
   ],
   "source": [
    "a3.T.shape"
   ]
  },
  {
   "cell_type": "markdown",
   "id": "54b6ded0-bb85-476c-8b71-a623af10202e",
   "metadata": {},
   "source": [
    "## Dot Product\n"
   ]
  },
  {
   "cell_type": "code",
   "execution_count": 94,
   "id": "bc28963b-0e83-483a-acf9-8981b42a434c",
   "metadata": {},
   "outputs": [
    {
     "data": {
      "text/plain": [
       "array([[5, 0, 3],\n",
       "       [3, 7, 9],\n",
       "       [3, 5, 2],\n",
       "       [4, 7, 6],\n",
       "       [8, 8, 1]])"
      ]
     },
     "execution_count": 94,
     "metadata": {},
     "output_type": "execute_result"
    }
   ],
   "source": [
    "np.random.seed(0)\n",
    "mat1 = np.random.randint(10, size=(5,3))\n",
    "mat2 = np.random.randint(10, size=(5,3))\n",
    "\n",
    "mat1"
   ]
  },
  {
   "cell_type": "code",
   "execution_count": 95,
   "id": "b8faa6a4-4f7d-41d0-8cbe-80f287ddf4e8",
   "metadata": {},
   "outputs": [
    {
     "data": {
      "text/plain": [
       "array([[6, 7, 7],\n",
       "       [8, 1, 5],\n",
       "       [9, 8, 9],\n",
       "       [4, 3, 0],\n",
       "       [3, 5, 0]])"
      ]
     },
     "execution_count": 95,
     "metadata": {},
     "output_type": "execute_result"
    }
   ],
   "source": [
    "mat2"
   ]
  },
  {
   "cell_type": "code",
   "execution_count": 96,
   "id": "3deae1b6-84af-40a7-aa9f-b40a0ca03979",
   "metadata": {},
   "outputs": [
    {
     "data": {
      "text/plain": [
       "((5, 3), (5, 3))"
      ]
     },
     "execution_count": 96,
     "metadata": {},
     "output_type": "execute_result"
    }
   ],
   "source": [
    "mat1.shape, mat2.shape"
   ]
  },
  {
   "cell_type": "code",
   "execution_count": 97,
   "id": "b02ad94b-ce0e-45c4-8942-756c174d6e5f",
   "metadata": {},
   "outputs": [
    {
     "data": {
      "text/plain": [
       "array([[5, 0, 3],\n",
       "       [3, 7, 9],\n",
       "       [3, 5, 2],\n",
       "       [4, 7, 6],\n",
       "       [8, 8, 1]])"
      ]
     },
     "execution_count": 97,
     "metadata": {},
     "output_type": "execute_result"
    }
   ],
   "source": [
    "mat1"
   ]
  },
  {
   "cell_type": "code",
   "execution_count": 98,
   "id": "6a0a6983-c1c8-4c95-b58a-a22a6edd8716",
   "metadata": {},
   "outputs": [
    {
     "data": {
      "text/plain": [
       "array([[6, 7, 7],\n",
       "       [8, 1, 5],\n",
       "       [9, 8, 9],\n",
       "       [4, 3, 0],\n",
       "       [3, 5, 0]])"
      ]
     },
     "execution_count": 98,
     "metadata": {},
     "output_type": "execute_result"
    }
   ],
   "source": [
    "mat2"
   ]
  },
  {
   "cell_type": "code",
   "execution_count": 99,
   "id": "02bd0688-4e23-48df-857b-c1d80dab2769",
   "metadata": {},
   "outputs": [
    {
     "data": {
      "text/plain": [
       "array([[30,  0, 21],\n",
       "       [24,  7, 45],\n",
       "       [27, 40, 18],\n",
       "       [16, 21,  0],\n",
       "       [24, 40,  0]])"
      ]
     },
     "execution_count": 99,
     "metadata": {},
     "output_type": "execute_result"
    }
   ],
   "source": [
    "# Element-wise multiplication (Hardmard product)\n",
    "mat1 * mat2"
   ]
  },
  {
   "cell_type": "code",
   "execution_count": 108,
   "id": "3c885033-cc23-48b7-9d6e-3439f6b1e5f0",
   "metadata": {},
   "outputs": [
    {
     "ename": "ValueError",
     "evalue": "shapes (5,3) and (5,3) not aligned: 3 (dim 1) != 5 (dim 0)",
     "output_type": "error",
     "traceback": [
      "\u001b[1;31m---------------------------------------------------------------------------\u001b[0m",
      "\u001b[1;31mValueError\u001b[0m                                Traceback (most recent call last)",
      "Cell \u001b[1;32mIn[108], line 3\u001b[0m\n\u001b[0;32m      1\u001b[0m \u001b[38;5;66;03m# Dot product\u001b[39;00m\n\u001b[1;32m----> 3\u001b[0m np\u001b[38;5;241m.\u001b[39mdot(mat1, mat2)\n",
      "\u001b[1;31mValueError\u001b[0m: shapes (5,3) and (5,3) not aligned: 3 (dim 1) != 5 (dim 0)"
     ]
    }
   ],
   "source": [
    "# Dot product\n",
    "\n",
    "np.dot(mat1, mat2)"
   ]
  },
  {
   "cell_type": "code",
   "execution_count": 109,
   "id": "dceb02d9-87f9-4c1b-9c75-cbec26b9b715",
   "metadata": {},
   "outputs": [
    {
     "data": {
      "text/plain": [
       "array([[5, 3, 3, 4, 8],\n",
       "       [0, 7, 5, 7, 8],\n",
       "       [3, 9, 2, 6, 1]])"
      ]
     },
     "execution_count": 109,
     "metadata": {},
     "output_type": "execute_result"
    }
   ],
   "source": [
    "# Tranpose mat1\n",
    "mat1.T"
   ]
  },
  {
   "cell_type": "code",
   "execution_count": 110,
   "id": "7aaf6394-23da-4eac-be73-3a528db81479",
   "metadata": {},
   "outputs": [
    {
     "data": {
      "text/plain": [
       "((5, 3), (3, 5))"
      ]
     },
     "execution_count": 110,
     "metadata": {},
     "output_type": "execute_result"
    }
   ],
   "source": [
    "mat1.shape , mat2.T.shape"
   ]
  },
  {
   "cell_type": "code",
   "execution_count": 111,
   "id": "9f045d72-5c6e-41a6-b1f2-bd80973cfda9",
   "metadata": {},
   "outputs": [
    {
     "data": {
      "text/plain": [
       "array([[ 51,  55,  72,  20,  15],\n",
       "       [130,  76, 164,  33,  44],\n",
       "       [ 67,  39,  85,  27,  34],\n",
       "       [115,  69, 146,  37,  47],\n",
       "       [111,  77, 145,  56,  64]])"
      ]
     },
     "execution_count": 111,
     "metadata": {},
     "output_type": "execute_result"
    }
   ],
   "source": [
    "mat3= np.dot(mat1, mat2.T)\n",
    "mat3"
   ]
  },
  {
   "cell_type": "markdown",
   "id": "cc6c5b36-fc85-47d9-8f26-7d14f080093c",
   "metadata": {},
   "source": [
    "## Dot product example (nut butter sales)"
   ]
  },
  {
   "cell_type": "code",
   "execution_count": 112,
   "id": "50d444ad-490e-4833-b7fc-6eb145fecbf8",
   "metadata": {},
   "outputs": [
    {
     "data": {
      "text/plain": [
       "array([[12, 15,  0],\n",
       "       [ 3,  3,  7],\n",
       "       [ 9, 19, 18],\n",
       "       [ 4,  6, 12],\n",
       "       [ 1,  6,  7]])"
      ]
     },
     "execution_count": 112,
     "metadata": {},
     "output_type": "execute_result"
    }
   ],
   "source": [
    "np.random.seed(0)\n",
    "# numbers of jars sold\n",
    "sales_amounts = np.random.randint(20, size= (5,3))\n",
    "sales_amounts"
   ]
  },
  {
   "cell_type": "code",
   "execution_count": 113,
   "id": "cf737f55-846b-40a1-ab4f-9d05d512e479",
   "metadata": {},
   "outputs": [
    {
     "data": {
      "text/html": [
       "<div>\n",
       "<style scoped>\n",
       "    .dataframe tbody tr th:only-of-type {\n",
       "        vertical-align: middle;\n",
       "    }\n",
       "\n",
       "    .dataframe tbody tr th {\n",
       "        vertical-align: top;\n",
       "    }\n",
       "\n",
       "    .dataframe thead th {\n",
       "        text-align: right;\n",
       "    }\n",
       "</style>\n",
       "<table border=\"1\" class=\"dataframe\">\n",
       "  <thead>\n",
       "    <tr style=\"text-align: right;\">\n",
       "      <th></th>\n",
       "      <th>Almond butter</th>\n",
       "      <th>Peanut Butter</th>\n",
       "      <th>Casher butter</th>\n",
       "    </tr>\n",
       "  </thead>\n",
       "  <tbody>\n",
       "    <tr>\n",
       "      <th>Mon</th>\n",
       "      <td>12</td>\n",
       "      <td>15</td>\n",
       "      <td>0</td>\n",
       "    </tr>\n",
       "    <tr>\n",
       "      <th>Tues</th>\n",
       "      <td>3</td>\n",
       "      <td>3</td>\n",
       "      <td>7</td>\n",
       "    </tr>\n",
       "    <tr>\n",
       "      <th>Wed</th>\n",
       "      <td>9</td>\n",
       "      <td>19</td>\n",
       "      <td>18</td>\n",
       "    </tr>\n",
       "    <tr>\n",
       "      <th>Thurs</th>\n",
       "      <td>4</td>\n",
       "      <td>6</td>\n",
       "      <td>12</td>\n",
       "    </tr>\n",
       "    <tr>\n",
       "      <th>Fri</th>\n",
       "      <td>1</td>\n",
       "      <td>6</td>\n",
       "      <td>7</td>\n",
       "    </tr>\n",
       "  </tbody>\n",
       "</table>\n",
       "</div>"
      ],
      "text/plain": [
       "       Almond butter  Peanut Butter  Casher butter\n",
       "Mon               12             15              0\n",
       "Tues               3              3              7\n",
       "Wed                9             19             18\n",
       "Thurs              4              6             12\n",
       "Fri                1              6              7"
      ]
     },
     "execution_count": 113,
     "metadata": {},
     "output_type": "execute_result"
    }
   ],
   "source": [
    "# create weekly_sales DataFrams\n",
    "weekly_sales = pd.DataFrame(sales_amounts,\n",
    "                            index=[\"Mon\", \"Tues\", \"Wed\", \"Thurs\", \"Fri\"],\n",
    "                            columns=[\"Almond butter\", \"Peanut Butter\", \"Casher butter\"]\n",
    "                           )\n",
    "weekly_sales"
   ]
  },
  {
   "cell_type": "code",
   "execution_count": 114,
   "id": "523ca497-d325-4388-854c-de2d44a4fb48",
   "metadata": {},
   "outputs": [
    {
     "data": {
      "text/plain": [
       "array([10,  8, 12])"
      ]
     },
     "execution_count": 114,
     "metadata": {},
     "output_type": "execute_result"
    }
   ],
   "source": [
    "# Creates prices array\n",
    "prices = np.array([10, 8, 12])\n",
    "prices"
   ]
  },
  {
   "cell_type": "code",
   "execution_count": 115,
   "id": "132ac99e-f89d-4f58-9a19-1a1c008ece0b",
   "metadata": {},
   "outputs": [
    {
     "data": {
      "text/html": [
       "<div>\n",
       "<style scoped>\n",
       "    .dataframe tbody tr th:only-of-type {\n",
       "        vertical-align: middle;\n",
       "    }\n",
       "\n",
       "    .dataframe tbody tr th {\n",
       "        vertical-align: top;\n",
       "    }\n",
       "\n",
       "    .dataframe thead th {\n",
       "        text-align: right;\n",
       "    }\n",
       "</style>\n",
       "<table border=\"1\" class=\"dataframe\">\n",
       "  <thead>\n",
       "    <tr style=\"text-align: right;\">\n",
       "      <th></th>\n",
       "      <th>Almond butter</th>\n",
       "      <th>Peanut Butter</th>\n",
       "      <th>Casher butter</th>\n",
       "    </tr>\n",
       "  </thead>\n",
       "  <tbody>\n",
       "    <tr>\n",
       "      <th>Prices</th>\n",
       "      <td>10</td>\n",
       "      <td>8</td>\n",
       "      <td>12</td>\n",
       "    </tr>\n",
       "  </tbody>\n",
       "</table>\n",
       "</div>"
      ],
      "text/plain": [
       "        Almond butter  Peanut Butter  Casher butter\n",
       "Prices             10              8             12"
      ]
     },
     "execution_count": 115,
     "metadata": {},
     "output_type": "execute_result"
    }
   ],
   "source": [
    "# Create butter_price DataFrame\n",
    "butter_price = pd.DataFrame(prices.reshape(1, 3),\n",
    "                           index=[\"Prices\"],\n",
    "                           columns=[\"Almond butter\", \"Peanut Butter\", \"Casher butter\"])\n",
    "butter_price"
   ]
  },
  {
   "cell_type": "code",
   "execution_count": 116,
   "id": "47bacfe5-2f67-446b-b3c4-9cb2f45bd649",
   "metadata": {},
   "outputs": [
    {
     "data": {
      "text/plain": [
       "array([10,  8, 12])"
      ]
     },
     "execution_count": 116,
     "metadata": {},
     "output_type": "execute_result"
    }
   ],
   "source": [
    "prices"
   ]
  },
  {
   "cell_type": "code",
   "execution_count": 117,
   "id": "0e72b6fa-58ef-4420-aa41-e842f9702fd7",
   "metadata": {},
   "outputs": [
    {
     "ename": "ValueError",
     "evalue": "shapes (3,) and (5,3) not aligned: 3 (dim 0) != 5 (dim 0)",
     "output_type": "error",
     "traceback": [
      "\u001b[1;31m---------------------------------------------------------------------------\u001b[0m",
      "\u001b[1;31mValueError\u001b[0m                                Traceback (most recent call last)",
      "Cell \u001b[1;32mIn[117], line 1\u001b[0m\n\u001b[1;32m----> 1\u001b[0m total_sales \u001b[38;5;241m=\u001b[39m prices\u001b[38;5;241m.\u001b[39mdot(sales_amounts)\n",
      "\u001b[1;31mValueError\u001b[0m: shapes (3,) and (5,3) not aligned: 3 (dim 0) != 5 (dim 0)"
     ]
    }
   ],
   "source": [
    "total_sales = prices.dot(sales_amounts)"
   ]
  },
  {
   "cell_type": "code",
   "execution_count": 118,
   "id": "1ada8b84-c678-415c-b21f-fbda58a0156e",
   "metadata": {},
   "outputs": [
    {
     "data": {
      "text/plain": [
       "array([240, 138, 458, 232, 142])"
      ]
     },
     "execution_count": 118,
     "metadata": {},
     "output_type": "execute_result"
    }
   ],
   "source": [
    "# Shape aren't aligned, let's tranpose\n",
    "total_sales = prices.dot(sales_amounts.T)\n",
    "total_sales"
   ]
  },
  {
   "cell_type": "code",
   "execution_count": 119,
   "id": "09a82170-f037-4c5b-b1e4-76a2cdd8e56f",
   "metadata": {},
   "outputs": [
    {
     "data": {
      "text/html": [
       "<div>\n",
       "<style scoped>\n",
       "    .dataframe tbody tr th:only-of-type {\n",
       "        vertical-align: middle;\n",
       "    }\n",
       "\n",
       "    .dataframe tbody tr th {\n",
       "        vertical-align: top;\n",
       "    }\n",
       "\n",
       "    .dataframe thead th {\n",
       "        text-align: right;\n",
       "    }\n",
       "</style>\n",
       "<table border=\"1\" class=\"dataframe\">\n",
       "  <thead>\n",
       "    <tr style=\"text-align: right;\">\n",
       "      <th></th>\n",
       "      <th>Almond butter</th>\n",
       "      <th>Peanut Butter</th>\n",
       "      <th>Casher butter</th>\n",
       "    </tr>\n",
       "  </thead>\n",
       "  <tbody>\n",
       "    <tr>\n",
       "      <th>Prices</th>\n",
       "      <td>10</td>\n",
       "      <td>8</td>\n",
       "      <td>12</td>\n",
       "    </tr>\n",
       "  </tbody>\n",
       "</table>\n",
       "</div>"
      ],
      "text/plain": [
       "        Almond butter  Peanut Butter  Casher butter\n",
       "Prices             10              8             12"
      ]
     },
     "execution_count": 119,
     "metadata": {},
     "output_type": "execute_result"
    }
   ],
   "source": [
    "# Create daily_sales\n",
    "butter_price"
   ]
  },
  {
   "cell_type": "code",
   "execution_count": 120,
   "id": "42574a44-6589-4092-81f5-e99716f81fe5",
   "metadata": {},
   "outputs": [
    {
     "data": {
      "text/html": [
       "<div>\n",
       "<style scoped>\n",
       "    .dataframe tbody tr th:only-of-type {\n",
       "        vertical-align: middle;\n",
       "    }\n",
       "\n",
       "    .dataframe tbody tr th {\n",
       "        vertical-align: top;\n",
       "    }\n",
       "\n",
       "    .dataframe thead th {\n",
       "        text-align: right;\n",
       "    }\n",
       "</style>\n",
       "<table border=\"1\" class=\"dataframe\">\n",
       "  <thead>\n",
       "    <tr style=\"text-align: right;\">\n",
       "      <th></th>\n",
       "      <th>Almond butter</th>\n",
       "      <th>Peanut Butter</th>\n",
       "      <th>Casher butter</th>\n",
       "    </tr>\n",
       "  </thead>\n",
       "  <tbody>\n",
       "    <tr>\n",
       "      <th>Mon</th>\n",
       "      <td>12</td>\n",
       "      <td>15</td>\n",
       "      <td>0</td>\n",
       "    </tr>\n",
       "    <tr>\n",
       "      <th>Tues</th>\n",
       "      <td>3</td>\n",
       "      <td>3</td>\n",
       "      <td>7</td>\n",
       "    </tr>\n",
       "    <tr>\n",
       "      <th>Wed</th>\n",
       "      <td>9</td>\n",
       "      <td>19</td>\n",
       "      <td>18</td>\n",
       "    </tr>\n",
       "    <tr>\n",
       "      <th>Thurs</th>\n",
       "      <td>4</td>\n",
       "      <td>6</td>\n",
       "      <td>12</td>\n",
       "    </tr>\n",
       "    <tr>\n",
       "      <th>Fri</th>\n",
       "      <td>1</td>\n",
       "      <td>6</td>\n",
       "      <td>7</td>\n",
       "    </tr>\n",
       "  </tbody>\n",
       "</table>\n",
       "</div>"
      ],
      "text/plain": [
       "       Almond butter  Peanut Butter  Casher butter\n",
       "Mon               12             15              0\n",
       "Tues               3              3              7\n",
       "Wed                9             19             18\n",
       "Thurs              4              6             12\n",
       "Fri                1              6              7"
      ]
     },
     "execution_count": 120,
     "metadata": {},
     "output_type": "execute_result"
    }
   ],
   "source": [
    "weekly_sales"
   ]
  },
  {
   "cell_type": "code",
   "execution_count": 121,
   "id": "cf141d20-8961-4e20-a3f8-1bbbca9c2a87",
   "metadata": {},
   "outputs": [
    {
     "data": {
      "text/plain": [
       "((1, 3), (5, 3))"
      ]
     },
     "execution_count": 121,
     "metadata": {},
     "output_type": "execute_result"
    }
   ],
   "source": [
    "butter_price.shape, weekly_sales.shape"
   ]
  },
  {
   "cell_type": "code",
   "execution_count": 122,
   "id": "8ebba16a-a982-441f-b058-15472d54f70e",
   "metadata": {},
   "outputs": [],
   "source": [
    "daily_sales = butter_price.dot(weekly_sales.T)"
   ]
  },
  {
   "cell_type": "code",
   "execution_count": 123,
   "id": "c0f11597-d895-45a5-9eaf-1ddf5758695a",
   "metadata": {},
   "outputs": [
    {
     "data": {
      "text/html": [
       "<div>\n",
       "<style scoped>\n",
       "    .dataframe tbody tr th:only-of-type {\n",
       "        vertical-align: middle;\n",
       "    }\n",
       "\n",
       "    .dataframe tbody tr th {\n",
       "        vertical-align: top;\n",
       "    }\n",
       "\n",
       "    .dataframe thead th {\n",
       "        text-align: right;\n",
       "    }\n",
       "</style>\n",
       "<table border=\"1\" class=\"dataframe\">\n",
       "  <thead>\n",
       "    <tr style=\"text-align: right;\">\n",
       "      <th></th>\n",
       "      <th>Mon</th>\n",
       "      <th>Tues</th>\n",
       "      <th>Wed</th>\n",
       "      <th>Thurs</th>\n",
       "      <th>Fri</th>\n",
       "    </tr>\n",
       "  </thead>\n",
       "  <tbody>\n",
       "    <tr>\n",
       "      <th>Prices</th>\n",
       "      <td>240</td>\n",
       "      <td>138</td>\n",
       "      <td>458</td>\n",
       "      <td>232</td>\n",
       "      <td>142</td>\n",
       "    </tr>\n",
       "  </tbody>\n",
       "</table>\n",
       "</div>"
      ],
      "text/plain": [
       "        Mon  Tues  Wed  Thurs  Fri\n",
       "Prices  240   138  458    232  142"
      ]
     },
     "execution_count": 123,
     "metadata": {},
     "output_type": "execute_result"
    }
   ],
   "source": [
    "daily_sales"
   ]
  },
  {
   "cell_type": "code",
   "execution_count": 124,
   "id": "27238e1d-9b9d-4ca5-99dc-c5e0e33766df",
   "metadata": {},
   "outputs": [
    {
     "ename": "ValueError",
     "evalue": "Cannot set a DataFrame with multiple columns to the single column Total ($)",
     "output_type": "error",
     "traceback": [
      "\u001b[1;31m---------------------------------------------------------------------------\u001b[0m",
      "\u001b[1;31mValueError\u001b[0m                                Traceback (most recent call last)",
      "\u001b[1;32m~\\AppData\\Local\\Temp\\ipykernel_31452\\3659917647.py\u001b[0m in \u001b[0;36m?\u001b[1;34m()\u001b[0m\n\u001b[1;32m----> 1\u001b[1;33m \u001b[0mweekly_sales\u001b[0m\u001b[1;33m[\u001b[0m\u001b[1;34m\"Total ($)\"\u001b[0m\u001b[1;33m]\u001b[0m \u001b[1;33m=\u001b[0m \u001b[0mdaily_sales\u001b[0m\u001b[1;33m\u001b[0m\u001b[1;33m\u001b[0m\u001b[0m\n\u001b[0m",
      "\u001b[1;32mB:\\ds_gg\\sample_project\\env\\Lib\\site-packages\\pandas\\core\\frame.py\u001b[0m in \u001b[0;36m?\u001b[1;34m(self, key, value)\u001b[0m\n\u001b[0;32m   4297\u001b[0m             \u001b[0mself\u001b[0m\u001b[1;33m.\u001b[0m\u001b[0m_setitem_frame\u001b[0m\u001b[1;33m(\u001b[0m\u001b[0mkey\u001b[0m\u001b[1;33m,\u001b[0m \u001b[0mvalue\u001b[0m\u001b[1;33m)\u001b[0m\u001b[1;33m\u001b[0m\u001b[1;33m\u001b[0m\u001b[0m\n\u001b[0;32m   4298\u001b[0m         \u001b[1;32melif\u001b[0m \u001b[0misinstance\u001b[0m\u001b[1;33m(\u001b[0m\u001b[0mkey\u001b[0m\u001b[1;33m,\u001b[0m \u001b[1;33m(\u001b[0m\u001b[0mSeries\u001b[0m\u001b[1;33m,\u001b[0m \u001b[0mnp\u001b[0m\u001b[1;33m.\u001b[0m\u001b[0mndarray\u001b[0m\u001b[1;33m,\u001b[0m \u001b[0mlist\u001b[0m\u001b[1;33m,\u001b[0m \u001b[0mIndex\u001b[0m\u001b[1;33m)\u001b[0m\u001b[1;33m)\u001b[0m\u001b[1;33m:\u001b[0m\u001b[1;33m\u001b[0m\u001b[1;33m\u001b[0m\u001b[0m\n\u001b[0;32m   4299\u001b[0m             \u001b[0mself\u001b[0m\u001b[1;33m.\u001b[0m\u001b[0m_setitem_array\u001b[0m\u001b[1;33m(\u001b[0m\u001b[0mkey\u001b[0m\u001b[1;33m,\u001b[0m \u001b[0mvalue\u001b[0m\u001b[1;33m)\u001b[0m\u001b[1;33m\u001b[0m\u001b[1;33m\u001b[0m\u001b[0m\n\u001b[0;32m   4300\u001b[0m         \u001b[1;32melif\u001b[0m \u001b[0misinstance\u001b[0m\u001b[1;33m(\u001b[0m\u001b[0mvalue\u001b[0m\u001b[1;33m,\u001b[0m \u001b[0mDataFrame\u001b[0m\u001b[1;33m)\u001b[0m\u001b[1;33m:\u001b[0m\u001b[1;33m\u001b[0m\u001b[1;33m\u001b[0m\u001b[0m\n\u001b[1;32m-> 4301\u001b[1;33m             \u001b[0mself\u001b[0m\u001b[1;33m.\u001b[0m\u001b[0m_set_item_frame_value\u001b[0m\u001b[1;33m(\u001b[0m\u001b[0mkey\u001b[0m\u001b[1;33m,\u001b[0m \u001b[0mvalue\u001b[0m\u001b[1;33m)\u001b[0m\u001b[1;33m\u001b[0m\u001b[1;33m\u001b[0m\u001b[0m\n\u001b[0m\u001b[0;32m   4302\u001b[0m         elif (\n\u001b[0;32m   4303\u001b[0m             \u001b[0mis_list_like\u001b[0m\u001b[1;33m(\u001b[0m\u001b[0mvalue\u001b[0m\u001b[1;33m)\u001b[0m\u001b[1;33m\u001b[0m\u001b[1;33m\u001b[0m\u001b[0m\n\u001b[0;32m   4304\u001b[0m             \u001b[1;32mand\u001b[0m \u001b[1;32mnot\u001b[0m \u001b[0mself\u001b[0m\u001b[1;33m.\u001b[0m\u001b[0mcolumns\u001b[0m\u001b[1;33m.\u001b[0m\u001b[0mis_unique\u001b[0m\u001b[1;33m\u001b[0m\u001b[1;33m\u001b[0m\u001b[0m\n",
      "\u001b[1;32mB:\\ds_gg\\sample_project\\env\\Lib\\site-packages\\pandas\\core\\frame.py\u001b[0m in \u001b[0;36m?\u001b[1;34m(self, key, value)\u001b[0m\n\u001b[0;32m   4455\u001b[0m \u001b[1;33m\u001b[0m\u001b[0m\n\u001b[0;32m   4456\u001b[0m             \u001b[1;32mreturn\u001b[0m \u001b[0mself\u001b[0m\u001b[1;33m.\u001b[0m\u001b[0misetitem\u001b[0m\u001b[1;33m(\u001b[0m\u001b[0mlocs\u001b[0m\u001b[1;33m,\u001b[0m \u001b[0mvalue\u001b[0m\u001b[1;33m)\u001b[0m\u001b[1;33m\u001b[0m\u001b[1;33m\u001b[0m\u001b[0m\n\u001b[0;32m   4457\u001b[0m \u001b[1;33m\u001b[0m\u001b[0m\n\u001b[0;32m   4458\u001b[0m         \u001b[1;32mif\u001b[0m \u001b[0mlen\u001b[0m\u001b[1;33m(\u001b[0m\u001b[0mvalue\u001b[0m\u001b[1;33m.\u001b[0m\u001b[0mcolumns\u001b[0m\u001b[1;33m)\u001b[0m \u001b[1;33m>\u001b[0m \u001b[1;36m1\u001b[0m\u001b[1;33m:\u001b[0m\u001b[1;33m\u001b[0m\u001b[1;33m\u001b[0m\u001b[0m\n\u001b[1;32m-> 4459\u001b[1;33m             raise ValueError(\n\u001b[0m\u001b[0;32m   4460\u001b[0m                 \u001b[1;34m\"Cannot set a DataFrame with multiple columns to the single \"\u001b[0m\u001b[1;33m\u001b[0m\u001b[1;33m\u001b[0m\u001b[0m\n\u001b[0;32m   4461\u001b[0m                 \u001b[1;33mf\"\u001b[0m\u001b[1;33mcolumn \u001b[0m\u001b[1;33m{\u001b[0m\u001b[0mkey\u001b[0m\u001b[1;33m}\u001b[0m\u001b[1;33m\"\u001b[0m\u001b[1;33m\u001b[0m\u001b[1;33m\u001b[0m\u001b[0m\n\u001b[0;32m   4462\u001b[0m             \u001b[1;33m)\u001b[0m\u001b[1;33m\u001b[0m\u001b[1;33m\u001b[0m\u001b[0m\n",
      "\u001b[1;31mValueError\u001b[0m: Cannot set a DataFrame with multiple columns to the single column Total ($)"
     ]
    }
   ],
   "source": [
    "weekly_sales[\"Total ($)\"] = daily_sales"
   ]
  },
  {
   "cell_type": "code",
   "execution_count": 125,
   "id": "4141c054-56cd-4301-bd81-47092461909a",
   "metadata": {},
   "outputs": [
    {
     "data": {
      "text/plain": [
       "(5, 3)"
      ]
     },
     "execution_count": 125,
     "metadata": {},
     "output_type": "execute_result"
    }
   ],
   "source": [
    "weekly_sales.shape"
   ]
  },
  {
   "cell_type": "code",
   "execution_count": 126,
   "id": "56ceb52c-3eec-46bb-bbbe-72c3326662dd",
   "metadata": {},
   "outputs": [
    {
     "data": {
      "text/plain": [
       "(1, 5)"
      ]
     },
     "execution_count": 126,
     "metadata": {},
     "output_type": "execute_result"
    }
   ],
   "source": [
    "daily_sales.shape"
   ]
  },
  {
   "cell_type": "code",
   "execution_count": 127,
   "id": "ba16080e-5c34-4d80-9cd3-de9a60fd549a",
   "metadata": {},
   "outputs": [],
   "source": [
    "weekly_sales[\"Total ($)\"] = daily_sales.T"
   ]
  },
  {
   "cell_type": "code",
   "execution_count": 128,
   "id": "9d620760-3b0e-45e5-9f1b-9889a8bf514c",
   "metadata": {},
   "outputs": [
    {
     "data": {
      "text/plain": [
       "array([10,  8, 12])"
      ]
     },
     "execution_count": 128,
     "metadata": {},
     "output_type": "execute_result"
    }
   ],
   "source": [
    "prices"
   ]
  },
  {
   "cell_type": "code",
   "execution_count": 129,
   "id": "7b412b11-3f6a-4c0c-9ddb-fb60671263da",
   "metadata": {},
   "outputs": [
    {
     "data": {
      "text/html": [
       "<div>\n",
       "<style scoped>\n",
       "    .dataframe tbody tr th:only-of-type {\n",
       "        vertical-align: middle;\n",
       "    }\n",
       "\n",
       "    .dataframe tbody tr th {\n",
       "        vertical-align: top;\n",
       "    }\n",
       "\n",
       "    .dataframe thead th {\n",
       "        text-align: right;\n",
       "    }\n",
       "</style>\n",
       "<table border=\"1\" class=\"dataframe\">\n",
       "  <thead>\n",
       "    <tr style=\"text-align: right;\">\n",
       "      <th></th>\n",
       "      <th>Almond butter</th>\n",
       "      <th>Peanut Butter</th>\n",
       "      <th>Casher butter</th>\n",
       "      <th>Total ($)</th>\n",
       "    </tr>\n",
       "  </thead>\n",
       "  <tbody>\n",
       "    <tr>\n",
       "      <th>Mon</th>\n",
       "      <td>12</td>\n",
       "      <td>15</td>\n",
       "      <td>0</td>\n",
       "      <td>240</td>\n",
       "    </tr>\n",
       "    <tr>\n",
       "      <th>Tues</th>\n",
       "      <td>3</td>\n",
       "      <td>3</td>\n",
       "      <td>7</td>\n",
       "      <td>138</td>\n",
       "    </tr>\n",
       "    <tr>\n",
       "      <th>Wed</th>\n",
       "      <td>9</td>\n",
       "      <td>19</td>\n",
       "      <td>18</td>\n",
       "      <td>458</td>\n",
       "    </tr>\n",
       "    <tr>\n",
       "      <th>Thurs</th>\n",
       "      <td>4</td>\n",
       "      <td>6</td>\n",
       "      <td>12</td>\n",
       "      <td>232</td>\n",
       "    </tr>\n",
       "    <tr>\n",
       "      <th>Fri</th>\n",
       "      <td>1</td>\n",
       "      <td>6</td>\n",
       "      <td>7</td>\n",
       "      <td>142</td>\n",
       "    </tr>\n",
       "  </tbody>\n",
       "</table>\n",
       "</div>"
      ],
      "text/plain": [
       "       Almond butter  Peanut Butter  Casher butter  Total ($)\n",
       "Mon               12             15              0        240\n",
       "Tues               3              3              7        138\n",
       "Wed                9             19             18        458\n",
       "Thurs              4              6             12        232\n",
       "Fri                1              6              7        142"
      ]
     },
     "execution_count": 129,
     "metadata": {},
     "output_type": "execute_result"
    }
   ],
   "source": [
    " weekly_sales"
   ]
  },
  {
   "cell_type": "markdown",
   "id": "a18ad2ed-2ad3-411a-bc01-98bb52d844f1",
   "metadata": {},
   "source": [
    "### Comparison Operators"
   ]
  },
  {
   "cell_type": "code",
   "execution_count": 130,
   "id": "7dc069c7-1473-477d-ae24-3ec5056893bb",
   "metadata": {},
   "outputs": [
    {
     "data": {
      "text/plain": [
       "array([1, 2, 3])"
      ]
     },
     "execution_count": 130,
     "metadata": {},
     "output_type": "execute_result"
    }
   ],
   "source": [
    "a1"
   ]
  },
  {
   "cell_type": "code",
   "execution_count": 131,
   "id": "fa9dd10c-ea59-4c00-b9fe-53b1352bae90",
   "metadata": {},
   "outputs": [
    {
     "data": {
      "text/plain": [
       "array([[1. , 2. , 3.3],\n",
       "       [4. , 5. , 6.5]])"
      ]
     },
     "execution_count": 131,
     "metadata": {},
     "output_type": "execute_result"
    }
   ],
   "source": [
    "a2"
   ]
  },
  {
   "cell_type": "code",
   "execution_count": 132,
   "id": "0bc8f7e6-461c-4b55-8faf-ef03e9bd2b91",
   "metadata": {},
   "outputs": [
    {
     "data": {
      "text/plain": [
       "array([[False, False, False],\n",
       "       [False, False, False]])"
      ]
     },
     "execution_count": 132,
     "metadata": {},
     "output_type": "execute_result"
    }
   ],
   "source": [
    "a1 > a2"
   ]
  },
  {
   "cell_type": "code",
   "execution_count": 133,
   "id": "67395d2d-0726-4a39-92af-11ff20665666",
   "metadata": {},
   "outputs": [
    {
     "data": {
      "text/plain": [
       "array([[ True,  True, False],\n",
       "       [False, False, False]])"
      ]
     },
     "execution_count": 133,
     "metadata": {},
     "output_type": "execute_result"
    }
   ],
   "source": [
    "a1 >= a2"
   ]
  },
  {
   "cell_type": "code",
   "execution_count": 134,
   "id": "e3d528e8-0f9a-46ae-a99f-282e429cc630",
   "metadata": {},
   "outputs": [
    {
     "data": {
      "text/plain": [
       "array([[ True,  True, False],\n",
       "       [False, False, False]])"
      ]
     },
     "execution_count": 134,
     "metadata": {},
     "output_type": "execute_result"
    }
   ],
   "source": [
    "bool_array = a1 >= a2\n",
    "bool_array"
   ]
  },
  {
   "cell_type": "code",
   "execution_count": 135,
   "id": "f04648bc-5785-4438-bfb9-ebd2c1bd6553",
   "metadata": {},
   "outputs": [
    {
     "data": {
      "text/plain": [
       "(numpy.ndarray, dtype('bool'))"
      ]
     },
     "execution_count": 135,
     "metadata": {},
     "output_type": "execute_result"
    }
   ],
   "source": [
    "type(bool_array), bool_array.dtype"
   ]
  },
  {
   "cell_type": "code",
   "execution_count": 136,
   "id": "ad7aad93-ad4e-490a-8432-ad6560dbe797",
   "metadata": {},
   "outputs": [
    {
     "data": {
      "text/plain": [
       "array([False, False, False])"
      ]
     },
     "execution_count": 136,
     "metadata": {},
     "output_type": "execute_result"
    }
   ],
   "source": [
    "a1 > 5"
   ]
  },
  {
   "cell_type": "code",
   "execution_count": 137,
   "id": "be9b615d-7699-4918-8159-d685900b2cb6",
   "metadata": {},
   "outputs": [
    {
     "data": {
      "text/plain": [
       "array([[ True,  True,  True],\n",
       "       [ True, False, False]])"
      ]
     },
     "execution_count": 137,
     "metadata": {},
     "output_type": "execute_result"
    }
   ],
   "source": [
    "a2 < 5"
   ]
  },
  {
   "cell_type": "code",
   "execution_count": 138,
   "id": "ad29bb26-ac4c-4939-ad23-61000350708c",
   "metadata": {},
   "outputs": [
    {
     "data": {
      "text/plain": [
       "array([1, 2, 3])"
      ]
     },
     "execution_count": 138,
     "metadata": {},
     "output_type": "execute_result"
    }
   ],
   "source": [
    "a1"
   ]
  },
  {
   "cell_type": "code",
   "execution_count": 139,
   "id": "7576acb5-5f3c-45ea-86cc-fdd1fb13bff9",
   "metadata": {},
   "outputs": [
    {
     "data": {
      "text/plain": [
       "array([[1. , 2. , 3.3],\n",
       "       [4. , 5. , 6.5]])"
      ]
     },
     "execution_count": 139,
     "metadata": {},
     "output_type": "execute_result"
    }
   ],
   "source": [
    "a2"
   ]
  },
  {
   "cell_type": "code",
   "execution_count": 140,
   "id": "fc413b07-5b96-4ca4-9119-3c48b0497bcd",
   "metadata": {},
   "outputs": [
    {
     "data": {
      "text/plain": [
       "array([[ True,  True, False],\n",
       "       [False, False, False]])"
      ]
     },
     "execution_count": 140,
     "metadata": {},
     "output_type": "execute_result"
    }
   ],
   "source": [
    "a1 == a2"
   ]
  },
  {
   "cell_type": "markdown",
   "id": "184fab99-bda2-4ef5-a042-782fe22ee2f6",
   "metadata": {},
   "source": [
    "## 5. Sorting arrays"
   ]
  },
  {
   "cell_type": "code",
   "execution_count": 141,
   "id": "733fd5ed-6d2e-4cb6-bb75-138ab72c4cc4",
   "metadata": {},
   "outputs": [
    {
     "data": {
      "text/plain": [
       "array([[7, 8, 1, 5, 9],\n",
       "       [8, 9, 4, 3, 0],\n",
       "       [3, 5, 0, 2, 3]])"
      ]
     },
     "execution_count": 141,
     "metadata": {},
     "output_type": "execute_result"
    }
   ],
   "source": [
    "random_array = np.random.randint(10, size=(3,5))\n",
    "random_array"
   ]
  },
  {
   "cell_type": "code",
   "execution_count": 142,
   "id": "1de75fc4-5914-4274-9c6d-e05da0710fb3",
   "metadata": {},
   "outputs": [
    {
     "data": {
      "text/plain": [
       "(3, 5)"
      ]
     },
     "execution_count": 142,
     "metadata": {},
     "output_type": "execute_result"
    }
   ],
   "source": [
    "random_array.shape"
   ]
  },
  {
   "cell_type": "code",
   "execution_count": 143,
   "id": "c5f01e51-4802-47c5-afa9-3729a5511ca9",
   "metadata": {},
   "outputs": [
    {
     "data": {
      "text/plain": [
       "array([[1, 5, 7, 8, 9],\n",
       "       [0, 3, 4, 8, 9],\n",
       "       [0, 2, 3, 3, 5]])"
      ]
     },
     "execution_count": 143,
     "metadata": {},
     "output_type": "execute_result"
    }
   ],
   "source": [
    "np.sort(random_array)"
   ]
  },
  {
   "cell_type": "code",
   "execution_count": 144,
   "id": "2e1c92d9-012b-45fc-a1d5-cdab5aa017b4",
   "metadata": {},
   "outputs": [
    {
     "data": {
      "text/plain": [
       "array([[7, 8, 1, 5, 9],\n",
       "       [8, 9, 4, 3, 0],\n",
       "       [3, 5, 0, 2, 3]])"
      ]
     },
     "execution_count": 144,
     "metadata": {},
     "output_type": "execute_result"
    }
   ],
   "source": [
    "random_array"
   ]
  },
  {
   "cell_type": "code",
   "execution_count": 145,
   "id": "dba7ac1a-c885-4f10-ae41-52006b71359e",
   "metadata": {},
   "outputs": [
    {
     "data": {
      "text/plain": [
       "array([[2, 3, 0, 1, 4],\n",
       "       [4, 3, 2, 0, 1],\n",
       "       [2, 3, 0, 4, 1]], dtype=int64)"
      ]
     },
     "execution_count": 145,
     "metadata": {},
     "output_type": "execute_result"
    }
   ],
   "source": [
    "np.argsort(random_array)"
   ]
  },
  {
   "cell_type": "code",
   "execution_count": 146,
   "id": "7b13fec3-8e08-4e9a-8976-98894cc1a150",
   "metadata": {},
   "outputs": [
    {
     "data": {
      "text/plain": [
       "array([1, 2, 3])"
      ]
     },
     "execution_count": 146,
     "metadata": {},
     "output_type": "execute_result"
    }
   ],
   "source": [
    "a1"
   ]
  },
  {
   "cell_type": "code",
   "execution_count": 147,
   "id": "bbd3d615-aa1e-4b5e-b529-fe42cb7f760d",
   "metadata": {},
   "outputs": [
    {
     "data": {
      "text/plain": [
       "array([0, 1, 2], dtype=int64)"
      ]
     },
     "execution_count": 147,
     "metadata": {},
     "output_type": "execute_result"
    }
   ],
   "source": [
    "np.argsort(a1)"
   ]
  },
  {
   "cell_type": "code",
   "execution_count": 148,
   "id": "a1979628-7c6f-4ded-a84d-f9763c3e8068",
   "metadata": {},
   "outputs": [
    {
     "data": {
      "text/plain": [
       "0"
      ]
     },
     "execution_count": 148,
     "metadata": {},
     "output_type": "execute_result"
    }
   ],
   "source": [
    "np.argmin(a1)"
   ]
  },
  {
   "cell_type": "code",
   "execution_count": 149,
   "id": "f96546f4-4363-4cb8-af33-d6e547f24f1f",
   "metadata": {},
   "outputs": [
    {
     "data": {
      "text/plain": [
       "2"
      ]
     },
     "execution_count": 149,
     "metadata": {},
     "output_type": "execute_result"
    }
   ],
   "source": [
    "np.argmax(a1)"
   ]
  },
  {
   "cell_type": "code",
   "execution_count": 150,
   "id": "a811b751-7274-4280-9116-a01c8f7656e9",
   "metadata": {},
   "outputs": [
    {
     "data": {
      "text/plain": [
       "array([[7, 8, 1, 5, 9],\n",
       "       [8, 9, 4, 3, 0],\n",
       "       [3, 5, 0, 2, 3]])"
      ]
     },
     "execution_count": 150,
     "metadata": {},
     "output_type": "execute_result"
    }
   ],
   "source": [
    "random_array"
   ]
  },
  {
   "cell_type": "code",
   "execution_count": 151,
   "id": "cf8d6dc8-950f-4eda-8cc8-f8c7ce926872",
   "metadata": {},
   "outputs": [
    {
     "data": {
      "text/plain": [
       "array([1, 1, 1, 0, 0], dtype=int64)"
      ]
     },
     "execution_count": 151,
     "metadata": {},
     "output_type": "execute_result"
    }
   ],
   "source": [
    "np.argmax(random_array, axis = 0)"
   ]
  },
  {
   "cell_type": "code",
   "execution_count": 152,
   "id": "2257c8bf-5fd8-4d15-baab-b63ff02dd777",
   "metadata": {},
   "outputs": [
    {
     "data": {
      "text/plain": [
       "array([4, 1, 1], dtype=int64)"
      ]
     },
     "execution_count": 152,
     "metadata": {},
     "output_type": "execute_result"
    }
   ],
   "source": [
    "np.argmax(random_array, axis = 1)"
   ]
  },
  {
   "cell_type": "markdown",
   "id": "57b739fa-9dbf-4303-b5be-e951abd6a020",
   "metadata": {},
   "source": [
    "## 6. Practical Example - NumPy in Action !!!"
   ]
  },
  {
   "cell_type": "markdown",
   "id": "01050a8d-40bd-49b9-a308-7fb9032c2d17",
   "metadata": {},
   "source": [
    "<img src= \"images/panda.png\"/>"
   ]
  },
  {
   "cell_type": "code",
   "execution_count": 158,
   "id": "0be98ab0-5868-4c2f-9533-1f45dce893fc",
   "metadata": {},
   "outputs": [
    {
     "name": "stdout",
     "output_type": "stream",
     "text": [
      "<class 'numpy.ndarray'>\n"
     ]
    }
   ],
   "source": [
    "# Turn an image into a NumPy array\n",
    "from matplotlib.image import imread\n",
    "\n",
    "panda = imread(\"images/panda.png\")\n",
    "print(type(panda))"
   ]
  },
  {
   "cell_type": "code",
   "execution_count": 159,
   "id": "cbd2ef1d-3cbb-4b56-800f-a2edf4443b28",
   "metadata": {},
   "outputs": [
    {
     "data": {
      "text/plain": [
       "array([[[0.05490196, 0.10588235, 0.06666667],\n",
       "        [0.05490196, 0.10588235, 0.06666667],\n",
       "        [0.05490196, 0.10588235, 0.06666667],\n",
       "        ...,\n",
       "        [0.16470589, 0.12941177, 0.09411765],\n",
       "        [0.16470589, 0.12941177, 0.09411765],\n",
       "        [0.16470589, 0.12941177, 0.09411765]],\n",
       "\n",
       "       [[0.05490196, 0.10588235, 0.06666667],\n",
       "        [0.05490196, 0.10588235, 0.06666667],\n",
       "        [0.05490196, 0.10588235, 0.06666667],\n",
       "        ...,\n",
       "        [0.16470589, 0.12941177, 0.09411765],\n",
       "        [0.16470589, 0.12941177, 0.09411765],\n",
       "        [0.16470589, 0.12941177, 0.09411765]],\n",
       "\n",
       "       [[0.05490196, 0.10588235, 0.06666667],\n",
       "        [0.05490196, 0.10588235, 0.06666667],\n",
       "        [0.05490196, 0.10588235, 0.06666667],\n",
       "        ...,\n",
       "        [0.16470589, 0.12941177, 0.09411765],\n",
       "        [0.16470589, 0.12941177, 0.09411765],\n",
       "        [0.16470589, 0.12941177, 0.09411765]],\n",
       "\n",
       "       ...,\n",
       "\n",
       "       [[0.13333334, 0.07450981, 0.05490196],\n",
       "        [0.12156863, 0.0627451 , 0.04313726],\n",
       "        [0.10980392, 0.05098039, 0.03137255],\n",
       "        ...,\n",
       "        [0.02745098, 0.02745098, 0.03529412],\n",
       "        [0.02745098, 0.02745098, 0.03529412],\n",
       "        [0.02745098, 0.02745098, 0.03529412]],\n",
       "\n",
       "       [[0.13333334, 0.07450981, 0.05490196],\n",
       "        [0.12156863, 0.0627451 , 0.04313726],\n",
       "        [0.12156863, 0.0627451 , 0.04313726],\n",
       "        ...,\n",
       "        [0.02352941, 0.02352941, 0.03137255],\n",
       "        [0.02352941, 0.02352941, 0.03137255],\n",
       "        [0.02352941, 0.02352941, 0.03137255]],\n",
       "\n",
       "       [[0.13333334, 0.07450981, 0.05490196],\n",
       "        [0.12156863, 0.0627451 , 0.04313726],\n",
       "        [0.12156863, 0.0627451 , 0.04313726],\n",
       "        ...,\n",
       "        [0.02352941, 0.02352941, 0.03137255],\n",
       "        [0.02352941, 0.02352941, 0.03137255],\n",
       "        [0.02352941, 0.02352941, 0.03137255]]], dtype=float32)"
      ]
     },
     "execution_count": 159,
     "metadata": {},
     "output_type": "execute_result"
    }
   ],
   "source": [
    "panda"
   ]
  },
  {
   "cell_type": "code",
   "execution_count": 160,
   "id": "5ec06baf-4c6b-4414-a571-2964ada8ebd1",
   "metadata": {},
   "outputs": [
    {
     "data": {
      "text/plain": [
       "(24465000, (2330, 3500, 3), 3)"
      ]
     },
     "execution_count": 160,
     "metadata": {},
     "output_type": "execute_result"
    }
   ],
   "source": [
    "panda.size, panda.shape, panda.ndim"
   ]
  },
  {
   "cell_type": "code",
   "execution_count": 161,
   "id": "f4c00d2e-b235-49d6-9840-e0cafef9d8e0",
   "metadata": {},
   "outputs": [
    {
     "data": {
      "text/plain": [
       "array([[[0.05490196, 0.10588235, 0.06666667],\n",
       "        [0.05490196, 0.10588235, 0.06666667],\n",
       "        [0.05490196, 0.10588235, 0.06666667],\n",
       "        ...,\n",
       "        [0.16470589, 0.12941177, 0.09411765],\n",
       "        [0.16470589, 0.12941177, 0.09411765],\n",
       "        [0.16470589, 0.12941177, 0.09411765]],\n",
       "\n",
       "       [[0.05490196, 0.10588235, 0.06666667],\n",
       "        [0.05490196, 0.10588235, 0.06666667],\n",
       "        [0.05490196, 0.10588235, 0.06666667],\n",
       "        ...,\n",
       "        [0.16470589, 0.12941177, 0.09411765],\n",
       "        [0.16470589, 0.12941177, 0.09411765],\n",
       "        [0.16470589, 0.12941177, 0.09411765]],\n",
       "\n",
       "       [[0.05490196, 0.10588235, 0.06666667],\n",
       "        [0.05490196, 0.10588235, 0.06666667],\n",
       "        [0.05490196, 0.10588235, 0.06666667],\n",
       "        ...,\n",
       "        [0.16470589, 0.12941177, 0.09411765],\n",
       "        [0.16470589, 0.12941177, 0.09411765],\n",
       "        [0.16470589, 0.12941177, 0.09411765]],\n",
       "\n",
       "       ...,\n",
       "\n",
       "       [[0.06666667, 0.12156863, 0.07058824],\n",
       "        [0.06666667, 0.12156863, 0.07058824],\n",
       "        [0.06666667, 0.12156863, 0.07058824],\n",
       "        ...,\n",
       "        [0.1882353 , 0.15686275, 0.11372549],\n",
       "        [0.1882353 , 0.15686275, 0.11372549],\n",
       "        [0.1882353 , 0.15686275, 0.11372549]],\n",
       "\n",
       "       [[0.06666667, 0.12156863, 0.07058824],\n",
       "        [0.06666667, 0.12156863, 0.07058824],\n",
       "        [0.06666667, 0.12156863, 0.07058824],\n",
       "        ...,\n",
       "        [0.1882353 , 0.15686275, 0.11372549],\n",
       "        [0.1882353 , 0.15686275, 0.11372549],\n",
       "        [0.1882353 , 0.15686275, 0.11372549]],\n",
       "\n",
       "       [[0.06666667, 0.12156863, 0.07058824],\n",
       "        [0.06666667, 0.12156863, 0.07058824],\n",
       "        [0.06666667, 0.12156863, 0.07058824],\n",
       "        ...,\n",
       "        [0.1882353 , 0.15686275, 0.11372549],\n",
       "        [0.1882353 , 0.15686275, 0.11372549],\n",
       "        [0.1882353 , 0.15686275, 0.11372549]]], dtype=float32)"
      ]
     },
     "execution_count": 161,
     "metadata": {},
     "output_type": "execute_result"
    }
   ],
   "source": [
    "panda[:100]"
   ]
  },
  {
   "cell_type": "code",
   "execution_count": 162,
   "id": "3832d380-1a44-4e96-bf0d-cec923ab4a72",
   "metadata": {},
   "outputs": [
    {
     "data": {
      "text/plain": [
       "array([[[0.05490196, 0.10588235, 0.06666667],\n",
       "        [0.05490196, 0.10588235, 0.06666667],\n",
       "        [0.05490196, 0.10588235, 0.06666667],\n",
       "        ...,\n",
       "        [0.16470589, 0.12941177, 0.09411765],\n",
       "        [0.16470589, 0.12941177, 0.09411765],\n",
       "        [0.16470589, 0.12941177, 0.09411765]],\n",
       "\n",
       "       [[0.05490196, 0.10588235, 0.06666667],\n",
       "        [0.05490196, 0.10588235, 0.06666667],\n",
       "        [0.05490196, 0.10588235, 0.06666667],\n",
       "        ...,\n",
       "        [0.16470589, 0.12941177, 0.09411765],\n",
       "        [0.16470589, 0.12941177, 0.09411765],\n",
       "        [0.16470589, 0.12941177, 0.09411765]],\n",
       "\n",
       "       [[0.05490196, 0.10588235, 0.06666667],\n",
       "        [0.05490196, 0.10588235, 0.06666667],\n",
       "        [0.05490196, 0.10588235, 0.06666667],\n",
       "        ...,\n",
       "        [0.16470589, 0.12941177, 0.09411765],\n",
       "        [0.16470589, 0.12941177, 0.09411765],\n",
       "        [0.16470589, 0.12941177, 0.09411765]],\n",
       "\n",
       "       [[0.05490196, 0.10588235, 0.06666667],\n",
       "        [0.05490196, 0.10588235, 0.06666667],\n",
       "        [0.05490196, 0.10588235, 0.06666667],\n",
       "        ...,\n",
       "        [0.16862746, 0.13333334, 0.09803922],\n",
       "        [0.16862746, 0.13333334, 0.09803922],\n",
       "        [0.16862746, 0.13333334, 0.09803922]],\n",
       "\n",
       "       [[0.05490196, 0.10588235, 0.06666667],\n",
       "        [0.05490196, 0.10588235, 0.06666667],\n",
       "        [0.05490196, 0.10588235, 0.06666667],\n",
       "        ...,\n",
       "        [0.16862746, 0.13333334, 0.09803922],\n",
       "        [0.16862746, 0.13333334, 0.09803922],\n",
       "        [0.16862746, 0.13333334, 0.09803922]]], dtype=float32)"
      ]
     },
     "execution_count": 162,
     "metadata": {},
     "output_type": "execute_result"
    }
   ],
   "source": [
    "panda[:5]"
   ]
  },
  {
   "cell_type": "markdown",
   "id": "ff4e1513-9342-45ca-ae8a-f20404cf7522",
   "metadata": {},
   "source": [
    "<img src= \"images/car-photo.png\">"
   ]
  },
  {
   "cell_type": "code",
   "execution_count": 164,
   "id": "a3b106a9-d71b-4e67-b549-e6b9e0dd39d2",
   "metadata": {},
   "outputs": [
    {
     "name": "stdout",
     "output_type": "stream",
     "text": [
      "<class 'numpy.ndarray'>\n"
     ]
    }
   ],
   "source": [
    "car = imread(\"images/car-photo.png\")\n",
    "print(type(car))\n"
   ]
  },
  {
   "cell_type": "code",
   "execution_count": 165,
   "id": "2dd9dbea-57bb-44c4-ae4b-a360e3f8c95c",
   "metadata": {},
   "outputs": [
    {
     "data": {
      "text/plain": [
       "array([[[0.5019608 , 0.50980395, 0.4862745 , 1.        ],\n",
       "        [0.3372549 , 0.34509805, 0.30588236, 1.        ],\n",
       "        [0.20392157, 0.21568628, 0.14901961, 1.        ],\n",
       "        ...,\n",
       "        [0.64705884, 0.7058824 , 0.54901963, 1.        ],\n",
       "        [0.59607846, 0.63529414, 0.45882353, 1.        ],\n",
       "        [0.44705883, 0.47058824, 0.3372549 , 1.        ]]], dtype=float32)"
      ]
     },
     "execution_count": 165,
     "metadata": {},
     "output_type": "execute_result"
    }
   ],
   "source": [
    "car[:1]"
   ]
  },
  {
   "cell_type": "code",
   "execution_count": 166,
   "id": "41c5a390-a136-4cc4-8b6e-46adb2b3a276",
   "metadata": {},
   "outputs": [
    {
     "name": "stdout",
     "output_type": "stream",
     "text": [
      "<class 'numpy.ndarray'>\n"
     ]
    }
   ],
   "source": [
    "dog = imread(\"images/dog-photo.png\")\n",
    "print(type(dog))"
   ]
  },
  {
   "cell_type": "code",
   "execution_count": 167,
   "id": "37fe9a5a-9a6b-4aae-849b-8a9c3c0a70d8",
   "metadata": {},
   "outputs": [
    {
     "data": {
      "text/plain": [
       "array([[[0.70980394, 0.80784315, 0.88235295, 1.        ],\n",
       "        [0.72156864, 0.8117647 , 0.8862745 , 1.        ],\n",
       "        [0.7411765 , 0.8156863 , 0.8862745 , 1.        ],\n",
       "        ...,\n",
       "        [0.49803922, 0.6862745 , 0.8392157 , 1.        ],\n",
       "        [0.49411765, 0.68235296, 0.8392157 , 1.        ],\n",
       "        [0.49411765, 0.68235296, 0.8352941 , 1.        ]],\n",
       "\n",
       "       [[0.69411767, 0.8039216 , 0.8862745 , 1.        ],\n",
       "        [0.7019608 , 0.8039216 , 0.88235295, 1.        ],\n",
       "        [0.7058824 , 0.80784315, 0.88235295, 1.        ],\n",
       "        ...,\n",
       "        [0.5019608 , 0.6862745 , 0.84705883, 1.        ],\n",
       "        [0.49411765, 0.68235296, 0.84313726, 1.        ],\n",
       "        [0.49411765, 0.68235296, 0.8392157 , 1.        ]],\n",
       "\n",
       "       [[0.6901961 , 0.8       , 0.88235295, 1.        ],\n",
       "        [0.69803923, 0.8039216 , 0.88235295, 1.        ],\n",
       "        [0.7058824 , 0.80784315, 0.88235295, 1.        ],\n",
       "        ...,\n",
       "        [0.5019608 , 0.6862745 , 0.84705883, 1.        ],\n",
       "        [0.49803922, 0.6862745 , 0.84313726, 1.        ],\n",
       "        [0.49803922, 0.6862745 , 0.84313726, 1.        ]],\n",
       "\n",
       "       ...,\n",
       "\n",
       "       [[0.9098039 , 0.81960785, 0.654902  , 1.        ],\n",
       "        [0.8352941 , 0.7490196 , 0.6509804 , 1.        ],\n",
       "        [0.72156864, 0.6313726 , 0.5372549 , 1.        ],\n",
       "        ...,\n",
       "        [0.01568628, 0.07058824, 0.02352941, 1.        ],\n",
       "        [0.03921569, 0.09411765, 0.03529412, 1.        ],\n",
       "        [0.03921569, 0.09019608, 0.05490196, 1.        ]],\n",
       "\n",
       "       [[0.9137255 , 0.83137256, 0.6784314 , 1.        ],\n",
       "        [0.8117647 , 0.7294118 , 0.627451  , 1.        ],\n",
       "        [0.65882355, 0.5686275 , 0.47843137, 1.        ],\n",
       "        ...,\n",
       "        [0.00392157, 0.05490196, 0.03529412, 1.        ],\n",
       "        [0.03137255, 0.09019608, 0.05490196, 1.        ],\n",
       "        [0.04705882, 0.10588235, 0.06666667, 1.        ]],\n",
       "\n",
       "       [[0.9137255 , 0.83137256, 0.68235296, 1.        ],\n",
       "        [0.76862746, 0.68235296, 0.5882353 , 1.        ],\n",
       "        [0.59607846, 0.5058824 , 0.44313726, 1.        ],\n",
       "        ...,\n",
       "        [0.03921569, 0.10196079, 0.07058824, 1.        ],\n",
       "        [0.02745098, 0.08235294, 0.05882353, 1.        ],\n",
       "        [0.05098039, 0.11372549, 0.07058824, 1.        ]]], dtype=float32)"
      ]
     },
     "execution_count": 167,
     "metadata": {},
     "output_type": "execute_result"
    }
   ],
   "source": [
    "dog"
   ]
  },
  {
   "cell_type": "code",
   "execution_count": null,
   "id": "068c3522-3cdc-41ae-b630-81e0ab5d53d1",
   "metadata": {},
   "outputs": [],
   "source": []
  }
 ],
 "metadata": {
  "kernelspec": {
   "display_name": "Python 3 (ipykernel)",
   "language": "python",
   "name": "python3"
  },
  "language_info": {
   "codemirror_mode": {
    "name": "ipython",
    "version": 3
   },
   "file_extension": ".py",
   "mimetype": "text/x-python",
   "name": "python",
   "nbconvert_exporter": "python",
   "pygments_lexer": "ipython3",
   "version": "3.12.4"
  }
 },
 "nbformat": 4,
 "nbformat_minor": 5
}
